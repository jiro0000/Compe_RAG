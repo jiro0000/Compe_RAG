{
  "cells": [
    {
      "cell_type": "code",
      "execution_count": 13,
      "id": "36ee660a",
      "metadata": {},
      "outputs": [],
      "source": [
        "# 【1-1】必要なライブラリのインポート\n",
        "from openai import AzureOpenAI  # Azure OpenAI Service を扱うためのクライアント\n",
        "import pandas as pd  # CSVやテーブル形式のデータを扱うためのライブラリ\n",
        "import numpy as np   # 数値演算ライブラリ（ベクトルや行列演算に使用）\n",
        "from dotenv import load_dotenv\n",
        "import os\n",
        "from tqdm import tqdm \n",
        "import ast  # 文字列をPythonリスト等に評価するのに使う"
      ]
    },
    {
      "cell_type": "code",
      "execution_count": 2,
      "id": "dcd55ebc",
      "metadata": {},
      "outputs": [],
      "source": [
        "# Load environment variables from .env file\n",
        "load_dotenv()\n",
        "\n",
        "AZURE_OPENAI_API_KEY = os.getenv(\"AZURE_OPENAI_API_KEY\")\n",
        "AZURE_OPENAI_ENDPOINT = os.getenv(\"AZURE_OPENAI_ENDPOINT\")\n",
        "API_VERSION = os.getenv(\"API_VERSION\")\n",
        "DEPLOYMENT_ID_FOR_CHAT_COMPLETION = os.getenv(\"DEPLOYMENT_ID_FOR_CHAT_COMPLETION\")\n",
        "DEPLOYMENT_ID_FOR_EMBEDDING = os.getenv(\"DEPLOYMENT_ID_FOR_EMBEDDING\")\n",
        "\n",
        "# 【1-3】AzureOpenAI のクライアントを初期化\n",
        "client = AzureOpenAI(\n",
        "    api_key=AZURE_OPENAI_API_KEY,\n",
        "    azure_endpoint=AZURE_OPENAI_ENDPOINT,\n",
        "    api_version=API_VERSION\n",
        ")\n"
      ]
    },
    {
      "cell_type": "code",
      "execution_count": 3,
      "id": "df68215c",
      "metadata": {},
      "outputs": [],
      "source": [
        "def cosine_similarity(vec_a, vec_b):\n",
        "    \"\"\"\n",
        "    コサイン類似度を計算する関数。\n",
        "    例: cosine_similarity([1,0,0], [0.7,0.7,0])\n",
        "    ベクトルaとベクトルbの内積を、両ベクトルのノルムの積で割ることで求める。\n",
        "    \"\"\"\n",
        "    a = np.array(vec_a)  # listをnp.arrayに変換\n",
        "    b = np.array(vec_b)\n",
        "    # dot()で内積を計算し、linalg.norm()でベクトルの長さ(ノルム)を計算\n",
        "    return np.dot(a, b) / (np.linalg.norm(a) * np.linalg.norm(b))\n"
      ]
    },
    {
      "cell_type": "code",
      "execution_count": 4,
      "id": "c9fea9bd",
      "metadata": {},
      "outputs": [],
      "source": [
        "def str_to_list(str_embedding):\n",
        "    return ast.literal_eval(str_embedding)\n"
      ]
    },
    {
      "cell_type": "code",
      "execution_count": 5,
      "id": "679db2e6",
      "metadata": {},
      "outputs": [],
      "source": [
        "#set_path\n",
        "pdf_folder_path  = \"pdf/\"\n",
        "text_folder_path = \"text/\"\n",
        "csv_folder_path  = \"csv/\"\n",
        "\n",
        "pdf_text_folder_path = text_folder_path + \"pdf_text/\"\n",
        "pdf_summarize_text_folder_path = text_folder_path + \"pdf_summarize_text/\""
      ]
    },
    {
      "cell_type": "code",
      "execution_count": 6,
      "id": "5a0e19dc",
      "metadata": {},
      "outputs": [
        {
          "data": {
            "text/html": [
              "<div>\n",
              "<style scoped>\n",
              "    .dataframe tbody tr th:only-of-type {\n",
              "        vertical-align: middle;\n",
              "    }\n",
              "\n",
              "    .dataframe tbody tr th {\n",
              "        vertical-align: top;\n",
              "    }\n",
              "\n",
              "    .dataframe thead th {\n",
              "        text-align: right;\n",
              "    }\n",
              "</style>\n",
              "<table border=\"1\" class=\"dataframe\">\n",
              "  <thead>\n",
              "    <tr style=\"text-align: right;\">\n",
              "      <th></th>\n",
              "      <th>Unnamed: 0</th>\n",
              "      <th>file_path</th>\n",
              "      <th>embedding</th>\n",
              "    </tr>\n",
              "  </thead>\n",
              "  <tbody>\n",
              "    <tr>\n",
              "      <th>0</th>\n",
              "      <td>0</td>\n",
              "      <td>text/pdf_summarize_text/1.txt</td>\n",
              "      <td>[0.023383982479572296, -0.01869707927107811, -...</td>\n",
              "    </tr>\n",
              "    <tr>\n",
              "      <th>1</th>\n",
              "      <td>1</td>\n",
              "      <td>text/pdf_summarize_text/10.txt</td>\n",
              "      <td>[-0.0005391213926486671, 0.009955545887351036,...</td>\n",
              "    </tr>\n",
              "  </tbody>\n",
              "</table>\n",
              "</div>"
            ],
            "text/plain": [
              "   Unnamed: 0                       file_path  \\\n",
              "0           0   text/pdf_summarize_text/1.txt   \n",
              "1           1  text/pdf_summarize_text/10.txt   \n",
              "\n",
              "                                           embedding  \n",
              "0  [0.023383982479572296, -0.01869707927107811, -...  \n",
              "1  [-0.0005391213926486671, 0.009955545887351036,...  "
            ]
          },
          "execution_count": 6,
          "metadata": {},
          "output_type": "execute_result"
        }
      ],
      "source": [
        "#read_vector\n",
        "vector_df = pd.read_csv(csv_folder_path + \"vector.csv\")\n",
        "vector_df[\"embedding\"] = vector_df[\"embedding\"].apply(str_to_list)\n",
        "vector_df.head(2)  # 上位5行だけ表示"
      ]
    },
    {
      "cell_type": "code",
      "execution_count": 10,
      "id": "8527f557",
      "metadata": {},
      "outputs": [
        {
          "data": {
            "text/html": [
              "<div>\n",
              "<style scoped>\n",
              "    .dataframe tbody tr th:only-of-type {\n",
              "        vertical-align: middle;\n",
              "    }\n",
              "\n",
              "    .dataframe tbody tr th {\n",
              "        vertical-align: top;\n",
              "    }\n",
              "\n",
              "    .dataframe thead th {\n",
              "        text-align: right;\n",
              "    }\n",
              "</style>\n",
              "<table border=\"1\" class=\"dataframe\">\n",
              "  <thead>\n",
              "    <tr style=\"text-align: right;\">\n",
              "      <th></th>\n",
              "      <th>problem</th>\n",
              "      <th>answer</th>\n",
              "    </tr>\n",
              "    <tr>\n",
              "      <th>index</th>\n",
              "      <th></th>\n",
              "      <th></th>\n",
              "    </tr>\n",
              "  </thead>\n",
              "  <tbody>\n",
              "    <tr>\n",
              "      <th>0</th>\n",
              "      <td>高松コンストラクショングループの2025年3月期の受注高の計画は前期比何倍か、小数第三位を四...</td>\n",
              "      <td></td>\n",
              "    </tr>\n",
              "    <tr>\n",
              "      <th>1</th>\n",
              "      <td>株式会社キッツの取締役の報酬のうち株式報酬の割合は何％？</td>\n",
              "      <td></td>\n",
              "    </tr>\n",
              "  </tbody>\n",
              "</table>\n",
              "</div>"
            ],
            "text/plain": [
              "                                                 problem answer\n",
              "index                                                          \n",
              "0      高松コンストラクショングループの2025年3月期の受注高の計画は前期比何倍か、小数第三位を四...       \n",
              "1                           株式会社キッツの取締役の報酬のうち株式報酬の割合は何％？       "
            ]
          },
          "execution_count": 10,
          "metadata": {},
          "output_type": "execute_result"
        }
      ],
      "source": [
        "#read_query\n",
        "query_df = pd.read_csv(csv_folder_path + \"query.csv\",index_col=0)\n",
        "query_df[\"answer\"] =\"\"\n",
        "query_df.head(2)  # 上位5行だけ表示\n",
        "\n"
      ]
    },
    {
      "cell_type": "code",
      "execution_count": 19,
      "id": "07e97b66",
      "metadata": {},
      "outputs": [
        {
          "name": "stderr",
          "output_type": "stream",
          "text": [
            "100it [05:24,  3.24s/it]\n"
          ]
        }
      ],
      "source": [
        "for idx,row in  tqdm(query_df.iterrows()):\n",
        "\n",
        "    user_query = row.problem\n",
        "\n",
        "    # --- ユーザークエリをEmbedding ---\n",
        "    response = client.embeddings.create(\n",
        "        input=user_query,\n",
        "        model=DEPLOYMENT_ID_FOR_EMBEDDING\n",
        "    )\n",
        "    query_vector = response.data[0].embedding\n",
        "\n",
        "\n",
        "    # --- ユーザークエリと類似度の高い文書を取得 ---\n",
        "    selected_index = vector_df[\"embedding\"].apply(lambda doc_vec: cosine_similarity(doc_vec, query_vector))\\\n",
        "                                    .sort_values(ascending=False).head(3).index\n",
        "    selected_records = vector_df.loc[selected_index]\n",
        "\n",
        "\n",
        "    # --- プロンプトの作成 ---\n",
        "    doc_context = \"\"  \n",
        "    for idx, row in selected_records.iterrows():\n",
        "        # 実際にファイルを読み込む\n",
        "        with open(row['file_path'], \"r\", encoding=\"utf-8\") as f:\n",
        "            content = f.read()\n",
        "        # ファイルパスと本文をまとめてコンテキストに追加\n",
        "        doc_context += f\"\\n=== ソース: {row['file_path']} ===\\n{content}\\n\"\n",
        "\n",
        "        system_content = (\n",
        "            \"あなたは優秀なAIアシスタントです。\"\n",
        "            \"ユーザーが与えた情報だけをもとに回答してください。\"\n",
        "            \"情報がコンテキストに含まれない場合は『わかりません』と答えてください。\"\n",
        "            \"回答は最大54トークンにしてください。\"\n",
        "        )\n",
        "        user_content = (\n",
        "            \"以下のコンテキストを参考に回答をしてください。\\n\"  # 命令文\n",
        "            \"質問:\\n\"  # 質問文の出力\n",
        "            f\"{user_query}\\n\\n\"\n",
        "            \"コンテキスト:\\n\"\n",
        "            f\"{doc_context}\"\n",
        "        )\n",
        "        messages = [\n",
        "            {\"role\": \"system\", \"content\": system_content},  # システムメッセージ\n",
        "            {\"role\": \"user\", \"content\": user_content},       # ユーザーメッセージ\n",
        "        ]\n",
        "\n",
        "        answer = client.chat.completions.create(\n",
        "            model=DEPLOYMENT_ID_FOR_CHAT_COMPLETION,\n",
        "            messages=messages,\n",
        "            max_tokens=4000,     # 応答に使えるトークン数上限\n",
        "            temperature=0.7,     # 創造性（0~1）\n",
        "            top_p=0.95,          # nucleus sampling\n",
        "            frequency_penalty=0,\n",
        "            presence_penalty=0,\n",
        "            stop=None,\n",
        "            stream=False\n",
        "        ).choices[0].message.content  # 応答本文\n",
        "\n",
        "        #save\n",
        "        query_df.loc[idx,\"answer\"] = answer\n",
        "\n",
        "        # if not \"わかりません\" in answer:\n",
        "\n",
        "        #     print(\"\\n===== チャットのコンテキスト =====\\n\")\n",
        "        #     print(\"【systemメッセージ】\")\n",
        "        #     print(system_content)\n",
        "        #     print(\"\\n【userメッセージ】\")\n",
        "        #     print(user_content)\n",
        "        #     print(\"\\n===== RAGによる回答生成 =====\\n\")\n",
        "        #     print(answer)\n",
        "\n",
        "\n",
        "\n"
      ]
    },
    {
      "cell_type": "code",
      "execution_count": 22,
      "id": "ea5a0ef2",
      "metadata": {},
      "outputs": [],
      "source": [
        "prediction = query_df[\"answer\"]\n",
        "prediction.to_csv(csv_folder_path +\"prediction.csv\",header = False)"
      ]
    }
  ],
  "metadata": {
    "kernelspec": {
      "display_name": "Python 3",
      "language": "python",
      "name": "python3"
    },
    "language_info": {
      "codemirror_mode": {
        "name": "ipython",
        "version": 3
      },
      "file_extension": ".py",
      "mimetype": "text/x-python",
      "name": "python",
      "nbconvert_exporter": "python",
      "pygments_lexer": "ipython3",
      "version": "3.12.8"
    }
  },
  "nbformat": 4,
  "nbformat_minor": 5
}
