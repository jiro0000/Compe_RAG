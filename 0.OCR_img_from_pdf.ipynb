{
  "cells": [
    {
      "cell_type": "code",
      "execution_count": 2,
      "id": "3cccfbf4",
      "metadata": {},
      "outputs": [],
      "source": [
        "import fitz  # PyMuPDF\n",
        "from PIL import Image\n",
        "import os\n",
        "from tqdm import tqdm "
      ]
    },
    {
      "cell_type": "code",
      "execution_count": 3,
      "id": "7838198d",
      "metadata": {},
      "outputs": [],
      "source": [
        "def get_filename_without_extension(file_path):\n",
        "    return os.path.splitext(os.path.basename(file_path))[0]"
      ]
    },
    {
      "cell_type": "code",
      "execution_count": 4,
      "id": "85e14a7e",
      "metadata": {},
      "outputs": [],
      "source": [
        "def pdf_to_images(pdf_path, output_folder):\n",
        "    # PDFファイルを開く\n",
        "    pdf_document = fitz.open(pdf_path)\n",
        "    file_name    = get_filename_without_extension(pdf_path)\n",
        "\n",
        "    # 各ページを処理\n",
        "    for page_num in range(len(pdf_document)):\n",
        "        page = pdf_document.load_page(page_num)\n",
        "        \n",
        "        # ページを画像としてレンダリング\n",
        "        pix = page.get_pixmap()\n",
        "        \n",
        "        # 画像をPillow Imageオブジェクトに変換\n",
        "        img = Image.frombytes(\"RGB\", [pix.width, pix.height], pix.samples)\n",
        "        \n",
        "        # 画像を保存\n",
        "        img.save(f\"{output_folder}/{file_name}_{page_num + 1}.png\")\n"
      ]
    },
    {
      "cell_type": "code",
      "execution_count": 5,
      "id": "785d1c49",
      "metadata": {},
      "outputs": [],
      "source": [
        "#フォルダパス内のファイルパスを取得する関数\n",
        "def get_file_paths(folder_path):\n",
        "    file_paths = []\n",
        "    for root, _, files in os.walk(folder_path):\n",
        "        for file in files:\n",
        "            file_path = os.path.join(root, file)\n",
        "            file_paths.append(file_path)\n",
        "    return file_paths"
      ]
    },
    {
      "cell_type": "code",
      "execution_count": 18,
      "id": "e8935c60",
      "metadata": {},
      "outputs": [],
      "source": [
        "#set_path\n",
        "input_folder_path = \"./input/\"\n",
        "output_folder_path = \"./input/pdf_img\"\n",
        "\n",
        "pdf_folder_path = input_folder_path +\"pdf/\"\n",
        "pdf_text_folder_path = input_folder_path +\"pdf_text/\""
      ]
    },
    {
      "cell_type": "markdown",
      "id": "1a28acbb",
      "metadata": {},
      "source": [
        "### 1.transform pdf to img"
      ]
    },
    {
      "cell_type": "code",
      "execution_count": 7,
      "id": "9218b96d",
      "metadata": {},
      "outputs": [],
      "source": [
        "# get_path\n",
        "pdf_paths = get_file_paths(pdf_folder_path)\n",
        "# pdf_paths\n"
      ]
    },
    {
      "cell_type": "code",
      "execution_count": 8,
      "id": "f9298c7c",
      "metadata": {},
      "outputs": [],
      "source": [
        "# #transfer pdf to img\n",
        "# for pdf_path in tqdm(pdf_paths):\n",
        "#     pdf_to_images(pdf_path, output_folder_path)"
      ]
    },
    {
      "cell_type": "markdown",
      "id": "1f3ee429",
      "metadata": {},
      "source": [
        "### 2.summarize text in img"
      ]
    },
    {
      "cell_type": "code",
      "execution_count": 9,
      "id": "6c663b8c",
      "metadata": {},
      "outputs": [
        {
          "data": {
            "text/plain": [
              "True"
            ]
          },
          "execution_count": 9,
          "metadata": {},
          "output_type": "execute_result"
        }
      ],
      "source": [
        "import os\n",
        "import base64\n",
        "import numpy as np\n",
        "from openai import AzureOpenAI\n",
        "from dotenv import load_dotenv\n",
        "load_dotenv()"
      ]
    },
    {
      "cell_type": "code",
      "execution_count": 10,
      "id": "c21a6276",
      "metadata": {},
      "outputs": [],
      "source": [
        "\n",
        "from multiprocessing import Pool, cpu_count\n"
      ]
    },
    {
      "cell_type": "code",
      "execution_count": 11,
      "id": "3054d105",
      "metadata": {},
      "outputs": [],
      "source": [
        "#set env\n",
        "AZURE_OPENAI_API_KEY = os.getenv(\"AZURE_OPENAI_API_KEY\")\n",
        "AZURE_OPENAI_ENDPOINT = os.getenv(\"AZURE_OPENAI_ENDPOINT\")\n",
        "API_VERSION = os.getenv(\"API_VERSION\")\n",
        "DEPLOYMENT_ID_FOR_CHAT_COMPLETION = os.getenv(\"DEPLOYMENT_ID_FOR_CHAT_COMPLETION\")"
      ]
    },
    {
      "cell_type": "code",
      "execution_count": 12,
      "id": "aa498401",
      "metadata": {},
      "outputs": [],
      "source": [
        "def get_text_from_img(image_file):\n",
        "    with open(image_file, 'rb') as f:\n",
        "        img = f.read()\n",
        "        content =  [\n",
        "        {\n",
        "            'role' : 'system',\n",
        "            'content' : [\n",
        "                {'type':'text', 'text':'あなたは画像から文字を読み取りmarkdownに変換して出力します'},\n",
        "                {'type':'text', 'text':'わからないときは # unknown と出力します'},\n",
        "                ]\n",
        "        },\n",
        "        {\n",
        "            'role' : 'user',\n",
        "            'content' : [\n",
        "            { 'type': \"image_url\", 'image_url': {'url':'data:image/jpeg;base64,'+ base64.b64encode(img).decode('ascii') }},\n",
        "            ]\n",
        "        }\n",
        "        ]\n",
        "\n",
        "    client = AzureOpenAI(\n",
        "        api_key=AZURE_OPENAI_API_KEY,\n",
        "        api_version=API_VERSION,\n",
        "        azure_endpoint=AZURE_OPENAI_ENDPOINT)\n",
        "\n",
        "    completion_resp = client.chat.completions.create(\n",
        "        model=DEPLOYMENT_ID_FOR_CHAT_COMPLETION,\n",
        "        temperature=0,\n",
        "        seed=42,\n",
        "        messages=content\n",
        "        )\n",
        "    \n",
        "    return completion_resp.choices[0].message.content"
      ]
    },
    {
      "cell_type": "code",
      "execution_count": 13,
      "id": "1486d0da",
      "metadata": {},
      "outputs": [],
      "source": [
        "# get_path\n",
        "img_paths = get_file_paths(output_folder_path)\n"
      ]
    },
    {
      "cell_type": "code",
      "execution_count": 19,
      "id": "658571e1",
      "metadata": {},
      "outputs": [
        {
          "name": "stderr",
          "output_type": "stream",
          "text": [
            "  0%|          | 1/1539 [00:06<2:35:48,  6.08s/it]"
          ]
        },
        {
          "name": "stdout",
          "output_type": "stream",
          "text": [
            "====================\n",
            "./input/pdf_text/10_1.md\n",
            "```markdown\n",
            "# Sustainability Data Book 2024\n",
            "\n",
            "パナソニックグループ  \n",
            "サステナビリティ データブック 2024\n",
            "\n",
            "**Panasonic Group**\n",
            "```\n",
            "====================\n"
          ]
        },
        {
          "name": "stderr",
          "output_type": "stream",
          "text": [
            "  0%|          | 2/1539 [00:15<3:23:00,  7.92s/it]"
          ]
        },
        {
          "name": "stdout",
          "output_type": "stream",
          "text": [
            "====================\n",
            "./input/pdf_text/10_10.md\n",
            "# 環境\n",
            "\n",
            "## 方針\n",
            "当社グループは創業以来、環境社会に貢献することを経営理念として、1970年代から環境保全に取り組んできました。そして、1991年、環境経営を基本方針（環境基本方針）に位置付け、1993年には環境管理システムを構築し、環境保全活動を推進してきました。安全な水と地球環境の保全は、私たちの事業活動において重要なテーマです。\n",
            "\n",
            "2001年に策定した「グリーンプラン2018」の活動計画、2010年には「グリーンプラン2018」を改訂し、2018年には新たに「グリーンプラン2020」を策定しました。水、エネルギー、廃棄物などの環境負荷を低減するため、活動を推進しています。\n",
            "\n",
            "2013年、当社グループは「人と社会にとってより良い世界」を実現するために「グリーンプラン2018」を策定し、B2B環境経営の取り組みを強化することとしました。同年、環境省が主催する「国際連携のための環境経営システム」において、クリーンエネルギーの利用促進に関する活動を目指すことを表明しました。さらに、2050年には、温室効果ガスの排出量を実質ゼロにすることを目指しています。\n",
            "\n",
            "2019年、グリーンプラン2018の成果を受け、パナソニックグループの創立・運営に関する方針を見直し、環境マネジメントシステムを強化しました。\n",
            "====================\n"
          ]
        },
        {
          "name": "stderr",
          "output_type": "stream",
          "text": [
            "  0%|          | 3/1539 [00:24<3:35:35,  8.42s/it]"
          ]
        },
        {
          "name": "stdout",
          "output_type": "stream",
          "text": [
            "====================\n",
            "./input/pdf_text/10_100.md\n",
            "# 社員のウェルビーイング\n",
            "\n",
            "## 多様な働き方の推進\n",
            "当社グループでは、様々な価値観に基づく「生産性の向上」、そして個人の視点でのウェルビーイングの実現を目指し、イノベーション創出・業務効率化を実現し、長期的な成長に寄与しています。働き方に関しては、出社/リモートのどちらのスタンスを選択できるようにし、個人のライフスタイルに応じた柔軟な働き方を推進しています。また、特に中高年層においては、キャリアの再構築を支援するための施策を強化しています。\n",
            "\n",
            "[DEIポリシー](https://holding.japanpost.jp/organization/sustainability/diversity-equity-inclusion/support/worklifebalance.html)\n",
            "\n",
            "## 働く時間と場所の選択肢拡大\n",
            "グループ全体で、さまざまなキャリアサポート・ライフバランス支援に取り組んでいます。特に、育児や介護に関する制度を充実させ、従業員が安心して働ける環境を整えています。\n",
            "\n",
            "### 情報参考データ\n",
            "| 時間制約 | 利用者数 | 利用率 |\n",
            "|----------|----------|--------|\n",
            "| 時間制約 | 866人    | 1.4%   |\n",
            "| フレックスタイム | 51,146人 | 80.9%  |\n",
            "| リモートワーク | 9,171人  | 14.5%  |\n",
            "\n",
            "### 2023年度\n",
            "| 選択制勤務者数 | 利用者数 |\n",
            "|----------------|----------|\n",
            "| 時間制約      | 153人    |\n",
            "| フレックスタイム | 259人    |\n",
            "| リモートワーク | 258人    |\n",
            "\n",
            "## 妊娠・育児中の社員へのサポート\n",
            "### 育児に関する制度\n",
            "- チャイルドリフレッシュ\n",
            "- フレックスタイム制度\n",
            "\n",
            "「育児に関するガイドラインを整備し、社員が安心して育児と仕事を両立できるようにサポートしています。」\n",
            "====================\n"
          ]
        },
        {
          "name": "stderr",
          "output_type": "stream",
          "text": [
            "  0%|          | 4/1539 [00:34<3:54:50,  9.18s/it]"
          ]
        },
        {
          "name": "stdout",
          "output_type": "stream",
          "text": [
            "====================\n",
            "./input/pdf_text/10_101.md\n",
            "```markdown\n",
            "# 社員のウェルビーイング\n",
            "\n",
            "## 方針\n",
            "- 責任者・体制\n",
            "- グループ共通の重要指標\n",
            "- 経営基本方針の実践\n",
            "- 安全・安心・健康にはたらく。\n",
            "- やりがいを持って、はたらく。\n",
            "- 個性を活かしあって、はたらく。\n",
            "- 投資家向け人事戦略\n",
            "- 通報・相談窓口\n",
            "- 人材データ\n",
            "\n",
            "## 育児休業取得\n",
            "| 性別 | 2022年度 | 2023年度 |\n",
            "|------|-----------|-----------|\n",
            "| 男性 | 平均取得日数 | 21.58 | 36.28 |\n",
            "| 女性 | 平均取得日数 | 100.00 | 103.7 |\n",
            "| 合計 | 平均取得日数 | 376.4 | 305.8 |\n",
            "\n",
            "> 「2023年度の育児休業取得率は、男性が76.0%、女性が103.7%となり、男女ともに前年を上回りました。」\n",
            "\n",
            "## 介護中の社員へのサポート\n",
            "- 「介護サポートガイド」を作成し、会社制度の理解を図っています。また、社内のメンターシステムとして、介護をする社員同士の交流を促進し、それぞれの体験を共有する場を設けています。\n",
            "\n",
            "## ワーク・ライフ・バランスを支える制度の例\n",
            "- 多様な働き方を推進する制度を展開。\n",
            "\n",
            "## ジェンダーの公平性の推進\n",
            "- 当社グループでは特に女性の活躍に注力しており、上級の役職者を増やすことに取り組んでいます。\n",
            "\n",
            "### 最新のダイバーシティ\n",
            "- PHD. PEXおよび子会社\n",
            "- ジェンダーの公平性指標: 21%\n",
            "\n",
            "| 年度 | 男性 | 女性 |\n",
            "|------|------|------|\n",
            "| 2017 | 493  | 453  |\n",
            "| 2018 | 543  | 474  |\n",
            "| 2019 | 564  | 485  |\n",
            "| 2020 | 600  | 554  |\n",
            "| 2021 | 664  | 593  |\n",
            "| 2022 | 693  | 610  |\n",
            "| 2023 | 750  | 675  |\n",
            "\n",
            "> (2022年度) 社員 93:100, 管理職 73:100\n",
            "> (2023年度) 社員 96:100, 管理職 75:100\n",
            "\n",
            "PHD. PEXおよび子会社\n",
            "```\n",
            "====================\n"
          ]
        },
        {
          "name": "stderr",
          "output_type": "stream",
          "text": [
            "  0%|          | 5/1539 [00:44<4:00:43,  9.42s/it]"
          ]
        },
        {
          "name": "stdout",
          "output_type": "stream",
          "text": [
            "====================\n",
            "./input/pdf_text/10_102.md\n",
            "# 社員のウェルビーイング\n",
            "\n",
            "## 方針\n",
            "- 責任者・体制\n",
            "- グループ共通の重要指標\n",
            "- 経営基本方針の実践\n",
            "- 安全・安心・健康に、はたらく。\n",
            "- 個性を活かしつつ、はたらく。\n",
            "- 投資家等の人事戦略\n",
            "- 通報・相談窓口\n",
            "- 人材データ\n",
            "\n",
            "## 女性社員向けの勉強会：キャリアストレッチセミナー\n",
            "日本では、女性社員のキャリア形成を支援するために、リーダーシップやネットワーク構築のためのセミナーを実施しています。特に、女性のキャリアに関する意識を高めるためのプログラムを提供し、女性自身がキャリアを描く力を育むことを目指しています。\n",
            "\n",
            "## LGBTQ+の社員が活躍できる職場づくり\n",
            "\n",
            "### 行動指針\n",
            "「パナソニックグループ コンプライアンス方針」において、全員の多様性を尊重し、性別に関係なく活躍できる職場環境を行うことを掲げています。\n",
            "\n",
            "### 人事関連施策への適用\n",
            "当社では、2024年4月からの採用に際し、男女を問わず性別に関係なく、性別に基づく差別をなくすことを目指しています。\n",
            "\n",
            "### 相互支援の促進\n",
            "グループ内での相互支援を促進するため、LGBTQ+の社員が自らの声を上げる場を設けることを目指しています。\n",
            "\n",
            "### グループ内での情報発信\n",
            "LGBTQ+の人々への理解を深めるため、LGBTQ+の社員が自らの経験を語るイベントの開催を行っています。\n",
            "\n",
            "### 障がいのある人が活躍できる職場づくり\n",
            "2024年6月時点での日本における障がいのある人の雇用率は2.56%であり、それぞれの職場において、障がいのある人がより活躍できるような取り組みを進めています。\n",
            "\n",
            "### 特別な会計\n",
            "グループ内の特別な会計は、障がいのある人を支援するための施策を実施しています。また、障がいのある人への支援を行うための施策を継続的に実施しています。\n",
            "\n",
            "---\n",
            "\n",
            "Sustainability Data Book 2024 101\n",
            "====================\n"
          ]
        },
        {
          "name": "stderr",
          "output_type": "stream",
          "text": [
            "  0%|          | 6/1539 [11:35<96:51:35, 227.46s/it]"
          ]
        },
        {
          "name": "stdout",
          "output_type": "stream",
          "text": [
            "====================\n",
            "./input/pdf_text/10_103.md\n",
            "```markdown\n",
            "# 社員のウェルビーイング\n",
            "\n",
            "## 特例会社（掲載は2024年6月1日現在）\n",
            "\n",
            "| 会社名                       | 設立  | 従業員数（人） | 業務概要                                      |\n",
            "|------------------------------|-------|----------------|-----------------------------------------------|\n",
            "| パナソニック株式会社         | 1980年| 75             | AV機器、家電、産業機器、アプライアンス、照明、ROHS指令、環境配慮型製品、PC（パソコン）等 |\n",
            "| パナソニックシステムソリューションズジャパン | 1981年| 36             | ITサービス、システムインテグレーション等                  |\n",
            "| パナソニックエコソリューションズ | 1994年| 69             | LED照明、電力管理、光熱費削減ソリューション等              |\n",
            "| パナソニックアプライアンス社 | 1998年| 38             | 家庭用電化製品、冷蔵庫、洗濯機、空調等                      |\n",
            "| パナソニックインダストリー社 | 1999年| 44             | 産業機器、電子部品、電源装置等                          |\n",
            "\n",
            "## 高年齢の社員が活躍できる環境づくり\n",
            "当社グループでは多様な人材がそれぞれの能力を最大限発揮できる職場環境を整えるための会議を定期的に開催しています。\n",
            "\n",
            "### ① 働き方の多様化の推進\n",
            "当社は、ライフプランを考慮した働き方の提案により、一人ひとりが自分らしい生き方をデザインできるようにサポートしています。\n",
            "\n",
            "### ② 高齢者雇用の推進\n",
            "高齢者の雇用促進に向けた取り組みを行い、定年後もキャリアを活かせるような支援を行っています。\n",
            "\n",
            "## 社員の目的的なコミュニティ活動（ERG）\n",
            "当社グループでは、社員の多様性を尊重し、様々な活動を推進しています。コミュニティ活動は、社員の意見を反映し、ジェンダー、LGBTQ+、キャリア支援、ビジョンの共有などを通じて、社員のエンゲージメントを高めています。\n",
            "\n",
            "## 投資領域の人事戦略\n",
            "- 事業電池（パナソニックエナジー株式会社）\n",
            "  - パナソニックエナジー株式会社では、「持続可能な社会の実現に貢献する事業活動」を行い、ESGの観点からも社員のウェルビーイングに注力しています。2025年4月からは、65歳以上の社員の雇用を継続する方針を示しています。\n",
            "```\n",
            "\n",
            "====================\n"
          ]
        },
        {
          "name": "stderr",
          "output_type": "stream",
          "text": [
            "  0%|          | 7/1539 [11:44<66:26:25, 156.13s/it]"
          ]
        },
        {
          "name": "stdout",
          "output_type": "stream",
          "text": [
            "====================\n",
            "./input/pdf_text/10_104.md\n",
            "# 社員のウェルビーイング\n",
            "\n",
            "## 方針\n",
            "- 責任者・体制\n",
            "- グループ共通の最重要指標\n",
            "- 経営基本方針の実践\n",
            "- 安全・安心・健康にはちゅう。\n",
            "- やりがいを持ってはたらく。\n",
            "- 個性を活かしあってはたらく。\n",
            "\n",
            "## 投資戦略の人事戦略\n",
            "- 通報・相談窓口\n",
            "- 人材データ\n",
            "\n",
            "---\n",
            "\n",
            "## 空質空調（パナソニック株式会社 空質空調社）\n",
            "- パナソニック株式会社は空質空調社において、同社が提供する「空気のプロフェッショナルパートナー」の実現に向けて取り組んでいます。具体的には、空質・人が快適に過ごせる環境を提供するための施策を推進しています。\n",
            "\n",
            "## サプライチェーンマネジメントソフトウェア（パナソニック株式会社）\n",
            "- サプライチェーンマネジメント分野の専門的なソリューションを提供しているBlue Yonder Inc.において、トランプ社と共同で自社の人材を強化しています。また、全員が新しい技術を習得し、サプライチェーンの最適化に向けた取り組みを進めています。\n",
            "\n",
            "---\n",
            "\n",
            "## 通報・相談窓口\n",
            "### 社員の精神的・身体的ストレスに対する予防・対応（日本）\n",
            "- 当社グループでは、社員の精神的・身体的ストレスに対する予防の必要性として、以下の取り組みを行っています。\n",
            "  - **EAP**（Employee Assistance Program）\n",
            "  - **差別・ハラスメントの通報**\n",
            "    - 当社グループは、社員が精神的ストレスを受けた場合に相談できる窓口を設けています。\n",
            "\n",
            "---\n",
            "\n",
            "Sustainability Data Book 2024 103\n",
            "====================\n"
          ]
        },
        {
          "name": "stderr",
          "output_type": "stream",
          "text": [
            "  1%|          | 8/1539 [11:51<46:13:17, 108.69s/it]"
          ]
        },
        {
          "name": "stdout",
          "output_type": "stream",
          "text": [
            "====================\n",
            "./input/pdf_text/10_105.md\n",
            "```markdown\n",
            "# 社員のウェルビーイング\n",
            "\n",
            "## 人材データ\n",
            "\n",
            "### 社員数\n",
            "- **総数**: 228,420人 (2024年4月1日現在)\n",
            "  - **地域別**: \n",
            "    - 日本: 38%\n",
            "    - 海外: 62%\n",
            "  - **職種別**: \n",
            "    - 新卒: 60%\n",
            "    - キャリア: 40%\n",
            "\n",
            "### 採用人数\n",
            "- **2023年4月1日現在**\n",
            "  - 男性: 985 (新卒: 1,770, キャリア: 2,755)\n",
            "  - 女性: 370 (新卒: 412, キャリア: 782)\n",
            "  - 計: 1,355 (新卒: 2,182, キャリア: 3,537)\n",
            "\n",
            "### 雇用率\n",
            "- **2017年度**: 2.4%\n",
            "- **2018年度**: 4.6%\n",
            "- **2019年度**: 2.0%\n",
            "- **2020年度**: 2.1%\n",
            "- **2021年度**: 2.5%\n",
            "- **2022年度**: 5.3%\n",
            "- **2023年度**: 2.2%\n",
            "- **2024年度**: 1.5%\n",
            "\n",
            "### 平均勤続年数\n",
            "- 男性: 20.7年\n",
            "- 女性: 19.4年\n",
            "- 平均: 20.4年\n",
            "\n",
            "### 各健康指標 (日本)\n",
            "- **事業数**: 9,063 (1事業あたりの平均が数値化されている人の割合)\n",
            "  - 男性: 14%\n",
            "  - 女性: 21%\n",
            "\n",
            "### 運動実施率\n",
            "- **2010年から2023年**\n",
            "  - 男性: 9%\n",
            "  - 女性: 6%\n",
            "\n",
            "### 健康診断受診率 (25歳以上の人)\n",
            "- **2008年から2023年**\n",
            "  - 男性: 40%\n",
            "  - 女性: 30%\n",
            "```\n",
            "\n",
            "====================\n"
          ]
        },
        {
          "name": "stderr",
          "output_type": "stream",
          "text": [
            "  1%|          | 9/1539 [11:58<32:39:27, 76.84s/it] "
          ]
        },
        {
          "name": "stdout",
          "output_type": "stream",
          "text": [
            "====================\n",
            "./input/pdf_text/10_106.md\n",
            "# 責任ある調達活動\n",
            "\n",
            "## 方針\n",
            "- 責任者・体制\n",
            "- サプライチェーンのデューディリジェンス\n",
            "- 環境負荷低減の取り組み\n",
            "- 責任ある鉱物調達\n",
            "- 社内教育と社外での啓発活動\n",
            "- 通報・相談窓口\n",
            "\n",
            "---\n",
            "\n",
            "### 取引の状況（地域別 (%)）\n",
            "- 日本: 35%\n",
            "- 中国: 29%\n",
            "- インド: 30%\n",
            "- その他: 6%\n",
            "\n",
            "### 取引の状況（業種別 (%)）\n",
            "- 加工部品: 53%\n",
            "- 原材料: 23%\n",
            "- 電気・電子部品: 22%\n",
            "- その他（金融等）: 2%\n",
            "\n",
            "---\n",
            "\n",
            "Sustainability Data Book 2024 105\n",
            "====================\n"
          ]
        },
        {
          "name": "stderr",
          "output_type": "stream",
          "text": [
            "  1%|          | 10/1539 [12:08<23:55:27, 56.33s/it]"
          ]
        },
        {
          "name": "stdout",
          "output_type": "stream",
          "text": [
            "====================\n",
            "./input/pdf_text/10_107.md\n",
            "```markdown\n",
            "# 責任ある調達活動\n",
            "\n",
            "## 方針\n",
            "### 調達方針\n",
            "当社グループは、調達についての基本的な考え方を「調達方針」として2003年に定めています。その基本にあるのは、「調達活動は企業の社会的責任である」と考えています。調達を通じて、持続可能な社会の実現に貢献することが求められています。\n",
            "\n",
            "- グローバル調達の重要性\n",
            "  - 当社グループは、グローバルに事業を展開しているため、グローバルに調達を行う必要があります。相互の理解、研鑽が求められるため、要求される基準・価値観に対しても配慮しなければなりません。\n",
            "\n",
            "### CSR調達の実践\n",
            "- CSR調達の実践は、社会的責任、環境への配慮、人権、労働条件など、さまざまな側面を考慮しながら進められています。調達先の選定においても、これらの観点を重視しています。\n",
            "\n",
            "### 企業としての責任遂行\n",
            "- 2022年4月より、サプライチェーンにおけるCSR推進を目的とした「パナソニック サプライチェーン CSR推進ガイドライン」を策定し、サプライチェーンに関与する全ての企業に対して、CSR活動の推進を行い、持続可能な社会の実現に貢献しています。\n",
            "\n",
            "## クリーニング調達の徹底\n",
            "当社グループは、「企業は社会の公器である」という考えのもと、グローバルに調達活動を行う際には公正かつ透明性のある取引を行うことを重視しています。2004年に「クリーニング調達」を行い、この方針を徹底しています。毎年モニタリングを行い、調達先に対しても「クリーニング調達」の徹底を求めています。\n",
            "\n",
            "### 購入先候補からの金銭の受領の禁止、供給契約・全体の禁止\n",
            "- 「調達」はグローバルに実施される特性上として、「調達先から金銭を受け取ることは禁じられています」。また、供給契約においても、透明性を確保するために、金銭の受領を禁止しています。\n",
            "\n",
            "[詳細はこちら](https://holdings.panasonic/jp/corporate/procurement/declare.html)\n",
            "\n",
            "## 責任者・体制\n",
            "パナソニック ホールディングス（株）（以下、PHD）代表取締役社長が責任者として調達活動を推進しています（2024年3月現在）。サプライチェーンにおける責任ある調達活動は、企業全体の重要な活動として位置づけられています。\n",
            "```\n",
            "\n",
            "====================\n"
          ]
        },
        {
          "name": "stderr",
          "output_type": "stream",
          "text": [
            "  1%|          | 11/1539 [12:17<17:40:50, 41.66s/it]"
          ]
        },
        {
          "name": "stdout",
          "output_type": "stream",
          "text": [
            "====================\n",
            "./input/pdf_text/10_108.md\n",
            "```markdown\n",
            "# 責任ある調達活動\n",
            "\n",
            "## 方針\n",
            "- 責任者・体制\n",
            "- サプライチェーンのデュー・ディリジェンス\n",
            "- 環境負荷低減の取り組み\n",
            "- 責任ある調達活動\n",
            "- 社内教育と社外での啓発活動\n",
            "- 通報・相談窓口\n",
            "\n",
            "## 2022年12月20日 CSR ガイドライン改訂時からの基準を満たしています。\n",
            "\n",
            "### CSR自主アセスメントの実施と監査\n",
            "当社グループは、サプライチェーンにおける人権・環境・ディリジェンスに関してCSR自主アセスメントを実施しています。結果を踏まえ、CSR自主アセスメントは、当グループのCSRガイドラインに基づき実施されており、毎年の実施結果をもとに、改善の必要性を検討しています。新規の取引先に対しても、同様に実施され、取引先の状況に応じて、取引先と共に改善に取り組んでいます。\n",
            "\n",
            "このCSR自主アセスメントは、WEBサーベイ形式のもので、取引先のCSR自主アセスメント実施状況を2024年4月に取引先に対して12,300社のうち95%が実施しました。\n",
            "\n",
            "### 購入先様からのコミットメントの取得\n",
            "当社グループは、「パナソニックグループ コンプライアンス方針」に基づき、サプライチェーン全体におけるCSRガイドラインの遵守を徹底しています。また、CSRガイドラインの遵守に関するコミットメントを取引先に求めています。新規取引先に対しては、取引開始前にCSRガイドラインの遵守を求めるとともに、既存取引先に対しても、定期的にコミットメントの取得を行っています。\n",
            "\n",
            "## 環境負荷低減の取り組み\n",
            "当社グループは環境負荷を低減し、物質・エネルギーの使用量を減少させる取り組みを行っています。\n",
            "\n",
            "[サプライチェーン推進](https://holdings.panasonic/jp/corporate/sustainability/pdf/sdb2024-e.pdf)\n",
            "\n",
            "## 責任ある調達活動\n",
            "- 基本的な考え方\n",
            "  - サプライチェーンにおける責任ある調達活動は、リスクの回避、持続可能な社会の実現に寄与することを目的としています。特に、環境、サプライヤー、労働、ハラスメントなどの問題に対して取り組んでいます。\n",
            "```\n",
            "\n",
            "====================\n"
          ]
        },
        {
          "name": "stderr",
          "output_type": "stream",
          "text": [
            "  1%|          | 12/1539 [12:26<13:30:20, 31.84s/it]"
          ]
        },
        {
          "name": "stdout",
          "output_type": "stream",
          "text": [
            "====================\n",
            "./input/pdf_text/10_109.md\n",
            "# 責任ある調達活動\n",
            "\n",
            "## 方針\n",
            "責任者・体制  \n",
            "サプライチェーンのデュー・ディリジェンス  \n",
            "環境負荷低減の取り組み  \n",
            "責任ある調達活動  \n",
            "社内教育と社外での啓発活動  \n",
            "通報・相談窓口  \n",
            "\n",
            "## 責任ある調達活動\n",
            "PHDの調達活動は、環境保護、製品/サービスの品質向上、社会的責任を重視しており、サプライチェーン全体において持続可能性に配慮しています。\n",
            "\n",
            "## デュー・ディリジェンスの取り組み\n",
            "責任ある調達活動は、製品/サービスの調達においてのリスクを評価し、当社グループでは、調達ルールとして、RMIの実行する鉱・タングステン・金（3TG）の調達基準（CMRT）およびコバルト・ナイの調達基準（EMRT）を含む基準の遵守を徹底しています。\n",
            "\n",
            "## 責任ある鉱物調達\n",
            "責任グループでは、当社が直接または間接に購入した鉱物について、環境および社会的影響を考慮し、2023年度には、責任ある鉱物調達の対象鉱物が3,041品目から5,000品目以上に拡大され、EMRT基準に基づく調達が進められています。2024年には、より多くの鉱物に関しても調達基準を拡大することを検討しています。\n",
            "\n",
            "2023年度、当社は、鉱物調達においてConformant / Active Smelter (RMIの認証を受けている、無鉱物についての調達基準を遵守している)を含む、責任ある調達の実施を進めています。サプライチェーンにおける重要な要素として、サプライヤーとの関係を強化し、持続可能な調達を推進しています。\n",
            "\n",
            "## 業界連携の取り組み\n",
            "当社グループでは、電子業界連盟（JEITA）「責任ある鉱物調達ガイドライン」に基づき、サプライチェーン全体における透明性を高めるために、国内外の関連団体と連携し、情報共有を行っています。また、JEITAのサプライヤーグループにも参加し、他の企業と協力しています。\n",
            "\n",
            "## 社内教育と社外での啓発活動\n",
            "責任調達では、調達活動が社会的責任を果たすために人材を育成することが重要です。CSRに関する考え方を浸透させるためにコンプライアンス教育を実施しています。また、各国（欧州/米国・中東・アジア）において、責任ある調達活動について、理解を深めるための研修を実施しています。\n",
            "====================\n"
          ]
        },
        {
          "name": "stderr",
          "output_type": "stream",
          "text": [
            "  1%|          | 12/1539 [12:35<26:42:56, 62.98s/it]\n"
          ]
        },
        {
          "ename": "KeyboardInterrupt",
          "evalue": "",
          "output_type": "error",
          "traceback": [
            "\u001b[1;31m---------------------------------------------------------------------------\u001b[0m",
            "\u001b[1;31mKeyboardInterrupt\u001b[0m                         Traceback (most recent call last)",
            "Cell \u001b[1;32mIn[19], line 3\u001b[0m\n\u001b[0;32m      1\u001b[0m \u001b[38;5;66;03m#abstract_text_and_save\u001b[39;00m\n\u001b[0;32m      2\u001b[0m \u001b[38;5;28;01mfor\u001b[39;00m img_path \u001b[38;5;129;01min\u001b[39;00m tqdm(img_paths):\n\u001b[1;32m----> 3\u001b[0m     md_text   \u001b[38;5;241m=\u001b[39m \u001b[43mget_text_from_img\u001b[49m\u001b[43m(\u001b[49m\u001b[43mimg_path\u001b[49m\u001b[43m)\u001b[49m\n\u001b[0;32m      4\u001b[0m     file_name \u001b[38;5;241m=\u001b[39m get_filename_without_extension(img_path)\n\u001b[0;32m      5\u001b[0m     \u001b[38;5;28;01mwith\u001b[39;00m \u001b[38;5;28mopen\u001b[39m( pdf_text_folder_path\u001b[38;5;241m+\u001b[39m \u001b[38;5;124mf\u001b[39m\u001b[38;5;124m'\u001b[39m\u001b[38;5;132;01m{\u001b[39;00mfile_name\u001b[38;5;132;01m}\u001b[39;00m\u001b[38;5;124m.md\u001b[39m\u001b[38;5;124m'\u001b[39m, \u001b[38;5;124m'\u001b[39m\u001b[38;5;124mw\u001b[39m\u001b[38;5;124m'\u001b[39m) \u001b[38;5;28;01mas\u001b[39;00m f:\n",
            "Cell \u001b[1;32mIn[12], line 25\u001b[0m, in \u001b[0;36mget_text_from_img\u001b[1;34m(image_file)\u001b[0m\n\u001b[0;32m      4\u001b[0m     content \u001b[38;5;241m=\u001b[39m  [\n\u001b[0;32m      5\u001b[0m     {\n\u001b[0;32m      6\u001b[0m         \u001b[38;5;124m'\u001b[39m\u001b[38;5;124mrole\u001b[39m\u001b[38;5;124m'\u001b[39m : \u001b[38;5;124m'\u001b[39m\u001b[38;5;124msystem\u001b[39m\u001b[38;5;124m'\u001b[39m,\n\u001b[1;32m   (...)\u001b[0m\n\u001b[0;32m     17\u001b[0m     }\n\u001b[0;32m     18\u001b[0m     ]\n\u001b[0;32m     20\u001b[0m client \u001b[38;5;241m=\u001b[39m AzureOpenAI(\n\u001b[0;32m     21\u001b[0m     api_key\u001b[38;5;241m=\u001b[39mAZURE_OPENAI_API_KEY,\n\u001b[0;32m     22\u001b[0m     api_version\u001b[38;5;241m=\u001b[39mAPI_VERSION,\n\u001b[0;32m     23\u001b[0m     azure_endpoint\u001b[38;5;241m=\u001b[39mAZURE_OPENAI_ENDPOINT)\n\u001b[1;32m---> 25\u001b[0m completion_resp \u001b[38;5;241m=\u001b[39m \u001b[43mclient\u001b[49m\u001b[38;5;241;43m.\u001b[39;49m\u001b[43mchat\u001b[49m\u001b[38;5;241;43m.\u001b[39;49m\u001b[43mcompletions\u001b[49m\u001b[38;5;241;43m.\u001b[39;49m\u001b[43mcreate\u001b[49m\u001b[43m(\u001b[49m\n\u001b[0;32m     26\u001b[0m \u001b[43m    \u001b[49m\u001b[43mmodel\u001b[49m\u001b[38;5;241;43m=\u001b[39;49m\u001b[43mDEPLOYMENT_ID_FOR_CHAT_COMPLETION\u001b[49m\u001b[43m,\u001b[49m\n\u001b[0;32m     27\u001b[0m \u001b[43m    \u001b[49m\u001b[43mtemperature\u001b[49m\u001b[38;5;241;43m=\u001b[39;49m\u001b[38;5;241;43m0\u001b[39;49m\u001b[43m,\u001b[49m\n\u001b[0;32m     28\u001b[0m \u001b[43m    \u001b[49m\u001b[43mseed\u001b[49m\u001b[38;5;241;43m=\u001b[39;49m\u001b[38;5;241;43m42\u001b[39;49m\u001b[43m,\u001b[49m\n\u001b[0;32m     29\u001b[0m \u001b[43m    \u001b[49m\u001b[43mmessages\u001b[49m\u001b[38;5;241;43m=\u001b[39;49m\u001b[43mcontent\u001b[49m\n\u001b[0;32m     30\u001b[0m \u001b[43m    \u001b[49m\u001b[43m)\u001b[49m\n\u001b[0;32m     32\u001b[0m \u001b[38;5;28;01mreturn\u001b[39;00m completion_resp\u001b[38;5;241m.\u001b[39mchoices[\u001b[38;5;241m0\u001b[39m]\u001b[38;5;241m.\u001b[39mmessage\u001b[38;5;241m.\u001b[39mcontent\n",
            "File \u001b[1;32mc:\\Users\\User\\AppData\\Local\\Programs\\Python\\Python312\\Lib\\site-packages\\openai\\_utils\\_utils.py:279\u001b[0m, in \u001b[0;36mrequired_args.<locals>.inner.<locals>.wrapper\u001b[1;34m(*args, **kwargs)\u001b[0m\n\u001b[0;32m    277\u001b[0m             msg \u001b[38;5;241m=\u001b[39m \u001b[38;5;124mf\u001b[39m\u001b[38;5;124m\"\u001b[39m\u001b[38;5;124mMissing required argument: \u001b[39m\u001b[38;5;132;01m{\u001b[39;00mquote(missing[\u001b[38;5;241m0\u001b[39m])\u001b[38;5;132;01m}\u001b[39;00m\u001b[38;5;124m\"\u001b[39m\n\u001b[0;32m    278\u001b[0m     \u001b[38;5;28;01mraise\u001b[39;00m \u001b[38;5;167;01mTypeError\u001b[39;00m(msg)\n\u001b[1;32m--> 279\u001b[0m \u001b[38;5;28;01mreturn\u001b[39;00m \u001b[43mfunc\u001b[49m\u001b[43m(\u001b[49m\u001b[38;5;241;43m*\u001b[39;49m\u001b[43margs\u001b[49m\u001b[43m,\u001b[49m\u001b[43m \u001b[49m\u001b[38;5;241;43m*\u001b[39;49m\u001b[38;5;241;43m*\u001b[39;49m\u001b[43mkwargs\u001b[49m\u001b[43m)\u001b[49m\n",
            "File \u001b[1;32mc:\\Users\\User\\AppData\\Local\\Programs\\Python\\Python312\\Lib\\site-packages\\openai\\resources\\chat\\completions.py:863\u001b[0m, in \u001b[0;36mCompletions.create\u001b[1;34m(self, messages, model, audio, frequency_penalty, function_call, functions, logit_bias, logprobs, max_completion_tokens, max_tokens, metadata, modalities, n, parallel_tool_calls, prediction, presence_penalty, reasoning_effort, response_format, seed, service_tier, stop, store, stream, stream_options, temperature, tool_choice, tools, top_logprobs, top_p, user, extra_headers, extra_query, extra_body, timeout)\u001b[0m\n\u001b[0;32m    821\u001b[0m \u001b[38;5;129m@required_args\u001b[39m([\u001b[38;5;124m\"\u001b[39m\u001b[38;5;124mmessages\u001b[39m\u001b[38;5;124m\"\u001b[39m, \u001b[38;5;124m\"\u001b[39m\u001b[38;5;124mmodel\u001b[39m\u001b[38;5;124m\"\u001b[39m], [\u001b[38;5;124m\"\u001b[39m\u001b[38;5;124mmessages\u001b[39m\u001b[38;5;124m\"\u001b[39m, \u001b[38;5;124m\"\u001b[39m\u001b[38;5;124mmodel\u001b[39m\u001b[38;5;124m\"\u001b[39m, \u001b[38;5;124m\"\u001b[39m\u001b[38;5;124mstream\u001b[39m\u001b[38;5;124m\"\u001b[39m])\n\u001b[0;32m    822\u001b[0m \u001b[38;5;28;01mdef\u001b[39;00m \u001b[38;5;21mcreate\u001b[39m(\n\u001b[0;32m    823\u001b[0m     \u001b[38;5;28mself\u001b[39m,\n\u001b[1;32m   (...)\u001b[0m\n\u001b[0;32m    860\u001b[0m     timeout: \u001b[38;5;28mfloat\u001b[39m \u001b[38;5;241m|\u001b[39m httpx\u001b[38;5;241m.\u001b[39mTimeout \u001b[38;5;241m|\u001b[39m \u001b[38;5;28;01mNone\u001b[39;00m \u001b[38;5;241m|\u001b[39m NotGiven \u001b[38;5;241m=\u001b[39m NOT_GIVEN,\n\u001b[0;32m    861\u001b[0m ) \u001b[38;5;241m-\u001b[39m\u001b[38;5;241m>\u001b[39m ChatCompletion \u001b[38;5;241m|\u001b[39m Stream[ChatCompletionChunk]:\n\u001b[0;32m    862\u001b[0m     validate_response_format(response_format)\n\u001b[1;32m--> 863\u001b[0m     \u001b[38;5;28;01mreturn\u001b[39;00m \u001b[38;5;28;43mself\u001b[39;49m\u001b[38;5;241;43m.\u001b[39;49m\u001b[43m_post\u001b[49m\u001b[43m(\u001b[49m\n\u001b[0;32m    864\u001b[0m \u001b[43m        \u001b[49m\u001b[38;5;124;43m\"\u001b[39;49m\u001b[38;5;124;43m/chat/completions\u001b[39;49m\u001b[38;5;124;43m\"\u001b[39;49m\u001b[43m,\u001b[49m\n\u001b[0;32m    865\u001b[0m \u001b[43m        \u001b[49m\u001b[43mbody\u001b[49m\u001b[38;5;241;43m=\u001b[39;49m\u001b[43mmaybe_transform\u001b[49m\u001b[43m(\u001b[49m\n\u001b[0;32m    866\u001b[0m \u001b[43m            \u001b[49m\u001b[43m{\u001b[49m\n\u001b[0;32m    867\u001b[0m \u001b[43m                \u001b[49m\u001b[38;5;124;43m\"\u001b[39;49m\u001b[38;5;124;43mmessages\u001b[39;49m\u001b[38;5;124;43m\"\u001b[39;49m\u001b[43m:\u001b[49m\u001b[43m \u001b[49m\u001b[43mmessages\u001b[49m\u001b[43m,\u001b[49m\n\u001b[0;32m    868\u001b[0m \u001b[43m                \u001b[49m\u001b[38;5;124;43m\"\u001b[39;49m\u001b[38;5;124;43mmodel\u001b[39;49m\u001b[38;5;124;43m\"\u001b[39;49m\u001b[43m:\u001b[49m\u001b[43m \u001b[49m\u001b[43mmodel\u001b[49m\u001b[43m,\u001b[49m\n\u001b[0;32m    869\u001b[0m \u001b[43m                \u001b[49m\u001b[38;5;124;43m\"\u001b[39;49m\u001b[38;5;124;43maudio\u001b[39;49m\u001b[38;5;124;43m\"\u001b[39;49m\u001b[43m:\u001b[49m\u001b[43m \u001b[49m\u001b[43maudio\u001b[49m\u001b[43m,\u001b[49m\n\u001b[0;32m    870\u001b[0m \u001b[43m                \u001b[49m\u001b[38;5;124;43m\"\u001b[39;49m\u001b[38;5;124;43mfrequency_penalty\u001b[39;49m\u001b[38;5;124;43m\"\u001b[39;49m\u001b[43m:\u001b[49m\u001b[43m \u001b[49m\u001b[43mfrequency_penalty\u001b[49m\u001b[43m,\u001b[49m\n\u001b[0;32m    871\u001b[0m \u001b[43m                \u001b[49m\u001b[38;5;124;43m\"\u001b[39;49m\u001b[38;5;124;43mfunction_call\u001b[39;49m\u001b[38;5;124;43m\"\u001b[39;49m\u001b[43m:\u001b[49m\u001b[43m \u001b[49m\u001b[43mfunction_call\u001b[49m\u001b[43m,\u001b[49m\n\u001b[0;32m    872\u001b[0m \u001b[43m                \u001b[49m\u001b[38;5;124;43m\"\u001b[39;49m\u001b[38;5;124;43mfunctions\u001b[39;49m\u001b[38;5;124;43m\"\u001b[39;49m\u001b[43m:\u001b[49m\u001b[43m \u001b[49m\u001b[43mfunctions\u001b[49m\u001b[43m,\u001b[49m\n\u001b[0;32m    873\u001b[0m \u001b[43m                \u001b[49m\u001b[38;5;124;43m\"\u001b[39;49m\u001b[38;5;124;43mlogit_bias\u001b[39;49m\u001b[38;5;124;43m\"\u001b[39;49m\u001b[43m:\u001b[49m\u001b[43m \u001b[49m\u001b[43mlogit_bias\u001b[49m\u001b[43m,\u001b[49m\n\u001b[0;32m    874\u001b[0m \u001b[43m                \u001b[49m\u001b[38;5;124;43m\"\u001b[39;49m\u001b[38;5;124;43mlogprobs\u001b[39;49m\u001b[38;5;124;43m\"\u001b[39;49m\u001b[43m:\u001b[49m\u001b[43m \u001b[49m\u001b[43mlogprobs\u001b[49m\u001b[43m,\u001b[49m\n\u001b[0;32m    875\u001b[0m \u001b[43m                \u001b[49m\u001b[38;5;124;43m\"\u001b[39;49m\u001b[38;5;124;43mmax_completion_tokens\u001b[39;49m\u001b[38;5;124;43m\"\u001b[39;49m\u001b[43m:\u001b[49m\u001b[43m \u001b[49m\u001b[43mmax_completion_tokens\u001b[49m\u001b[43m,\u001b[49m\n\u001b[0;32m    876\u001b[0m \u001b[43m                \u001b[49m\u001b[38;5;124;43m\"\u001b[39;49m\u001b[38;5;124;43mmax_tokens\u001b[39;49m\u001b[38;5;124;43m\"\u001b[39;49m\u001b[43m:\u001b[49m\u001b[43m \u001b[49m\u001b[43mmax_tokens\u001b[49m\u001b[43m,\u001b[49m\n\u001b[0;32m    877\u001b[0m \u001b[43m                \u001b[49m\u001b[38;5;124;43m\"\u001b[39;49m\u001b[38;5;124;43mmetadata\u001b[39;49m\u001b[38;5;124;43m\"\u001b[39;49m\u001b[43m:\u001b[49m\u001b[43m \u001b[49m\u001b[43mmetadata\u001b[49m\u001b[43m,\u001b[49m\n\u001b[0;32m    878\u001b[0m \u001b[43m                \u001b[49m\u001b[38;5;124;43m\"\u001b[39;49m\u001b[38;5;124;43mmodalities\u001b[39;49m\u001b[38;5;124;43m\"\u001b[39;49m\u001b[43m:\u001b[49m\u001b[43m \u001b[49m\u001b[43mmodalities\u001b[49m\u001b[43m,\u001b[49m\n\u001b[0;32m    879\u001b[0m \u001b[43m                \u001b[49m\u001b[38;5;124;43m\"\u001b[39;49m\u001b[38;5;124;43mn\u001b[39;49m\u001b[38;5;124;43m\"\u001b[39;49m\u001b[43m:\u001b[49m\u001b[43m \u001b[49m\u001b[43mn\u001b[49m\u001b[43m,\u001b[49m\n\u001b[0;32m    880\u001b[0m \u001b[43m                \u001b[49m\u001b[38;5;124;43m\"\u001b[39;49m\u001b[38;5;124;43mparallel_tool_calls\u001b[39;49m\u001b[38;5;124;43m\"\u001b[39;49m\u001b[43m:\u001b[49m\u001b[43m \u001b[49m\u001b[43mparallel_tool_calls\u001b[49m\u001b[43m,\u001b[49m\n\u001b[0;32m    881\u001b[0m \u001b[43m                \u001b[49m\u001b[38;5;124;43m\"\u001b[39;49m\u001b[38;5;124;43mprediction\u001b[39;49m\u001b[38;5;124;43m\"\u001b[39;49m\u001b[43m:\u001b[49m\u001b[43m \u001b[49m\u001b[43mprediction\u001b[49m\u001b[43m,\u001b[49m\n\u001b[0;32m    882\u001b[0m \u001b[43m                \u001b[49m\u001b[38;5;124;43m\"\u001b[39;49m\u001b[38;5;124;43mpresence_penalty\u001b[39;49m\u001b[38;5;124;43m\"\u001b[39;49m\u001b[43m:\u001b[49m\u001b[43m \u001b[49m\u001b[43mpresence_penalty\u001b[49m\u001b[43m,\u001b[49m\n\u001b[0;32m    883\u001b[0m \u001b[43m                \u001b[49m\u001b[38;5;124;43m\"\u001b[39;49m\u001b[38;5;124;43mreasoning_effort\u001b[39;49m\u001b[38;5;124;43m\"\u001b[39;49m\u001b[43m:\u001b[49m\u001b[43m \u001b[49m\u001b[43mreasoning_effort\u001b[49m\u001b[43m,\u001b[49m\n\u001b[0;32m    884\u001b[0m \u001b[43m                \u001b[49m\u001b[38;5;124;43m\"\u001b[39;49m\u001b[38;5;124;43mresponse_format\u001b[39;49m\u001b[38;5;124;43m\"\u001b[39;49m\u001b[43m:\u001b[49m\u001b[43m \u001b[49m\u001b[43mresponse_format\u001b[49m\u001b[43m,\u001b[49m\n\u001b[0;32m    885\u001b[0m \u001b[43m                \u001b[49m\u001b[38;5;124;43m\"\u001b[39;49m\u001b[38;5;124;43mseed\u001b[39;49m\u001b[38;5;124;43m\"\u001b[39;49m\u001b[43m:\u001b[49m\u001b[43m \u001b[49m\u001b[43mseed\u001b[49m\u001b[43m,\u001b[49m\n\u001b[0;32m    886\u001b[0m \u001b[43m                \u001b[49m\u001b[38;5;124;43m\"\u001b[39;49m\u001b[38;5;124;43mservice_tier\u001b[39;49m\u001b[38;5;124;43m\"\u001b[39;49m\u001b[43m:\u001b[49m\u001b[43m \u001b[49m\u001b[43mservice_tier\u001b[49m\u001b[43m,\u001b[49m\n\u001b[0;32m    887\u001b[0m \u001b[43m                \u001b[49m\u001b[38;5;124;43m\"\u001b[39;49m\u001b[38;5;124;43mstop\u001b[39;49m\u001b[38;5;124;43m\"\u001b[39;49m\u001b[43m:\u001b[49m\u001b[43m \u001b[49m\u001b[43mstop\u001b[49m\u001b[43m,\u001b[49m\n\u001b[0;32m    888\u001b[0m \u001b[43m                \u001b[49m\u001b[38;5;124;43m\"\u001b[39;49m\u001b[38;5;124;43mstore\u001b[39;49m\u001b[38;5;124;43m\"\u001b[39;49m\u001b[43m:\u001b[49m\u001b[43m \u001b[49m\u001b[43mstore\u001b[49m\u001b[43m,\u001b[49m\n\u001b[0;32m    889\u001b[0m \u001b[43m                \u001b[49m\u001b[38;5;124;43m\"\u001b[39;49m\u001b[38;5;124;43mstream\u001b[39;49m\u001b[38;5;124;43m\"\u001b[39;49m\u001b[43m:\u001b[49m\u001b[43m \u001b[49m\u001b[43mstream\u001b[49m\u001b[43m,\u001b[49m\n\u001b[0;32m    890\u001b[0m \u001b[43m                \u001b[49m\u001b[38;5;124;43m\"\u001b[39;49m\u001b[38;5;124;43mstream_options\u001b[39;49m\u001b[38;5;124;43m\"\u001b[39;49m\u001b[43m:\u001b[49m\u001b[43m \u001b[49m\u001b[43mstream_options\u001b[49m\u001b[43m,\u001b[49m\n\u001b[0;32m    891\u001b[0m \u001b[43m                \u001b[49m\u001b[38;5;124;43m\"\u001b[39;49m\u001b[38;5;124;43mtemperature\u001b[39;49m\u001b[38;5;124;43m\"\u001b[39;49m\u001b[43m:\u001b[49m\u001b[43m \u001b[49m\u001b[43mtemperature\u001b[49m\u001b[43m,\u001b[49m\n\u001b[0;32m    892\u001b[0m \u001b[43m                \u001b[49m\u001b[38;5;124;43m\"\u001b[39;49m\u001b[38;5;124;43mtool_choice\u001b[39;49m\u001b[38;5;124;43m\"\u001b[39;49m\u001b[43m:\u001b[49m\u001b[43m \u001b[49m\u001b[43mtool_choice\u001b[49m\u001b[43m,\u001b[49m\n\u001b[0;32m    893\u001b[0m \u001b[43m                \u001b[49m\u001b[38;5;124;43m\"\u001b[39;49m\u001b[38;5;124;43mtools\u001b[39;49m\u001b[38;5;124;43m\"\u001b[39;49m\u001b[43m:\u001b[49m\u001b[43m \u001b[49m\u001b[43mtools\u001b[49m\u001b[43m,\u001b[49m\n\u001b[0;32m    894\u001b[0m \u001b[43m                \u001b[49m\u001b[38;5;124;43m\"\u001b[39;49m\u001b[38;5;124;43mtop_logprobs\u001b[39;49m\u001b[38;5;124;43m\"\u001b[39;49m\u001b[43m:\u001b[49m\u001b[43m \u001b[49m\u001b[43mtop_logprobs\u001b[49m\u001b[43m,\u001b[49m\n\u001b[0;32m    895\u001b[0m \u001b[43m                \u001b[49m\u001b[38;5;124;43m\"\u001b[39;49m\u001b[38;5;124;43mtop_p\u001b[39;49m\u001b[38;5;124;43m\"\u001b[39;49m\u001b[43m:\u001b[49m\u001b[43m \u001b[49m\u001b[43mtop_p\u001b[49m\u001b[43m,\u001b[49m\n\u001b[0;32m    896\u001b[0m \u001b[43m                \u001b[49m\u001b[38;5;124;43m\"\u001b[39;49m\u001b[38;5;124;43muser\u001b[39;49m\u001b[38;5;124;43m\"\u001b[39;49m\u001b[43m:\u001b[49m\u001b[43m \u001b[49m\u001b[43muser\u001b[49m\u001b[43m,\u001b[49m\n\u001b[0;32m    897\u001b[0m \u001b[43m            \u001b[49m\u001b[43m}\u001b[49m\u001b[43m,\u001b[49m\n\u001b[0;32m    898\u001b[0m \u001b[43m            \u001b[49m\u001b[43mcompletion_create_params\u001b[49m\u001b[38;5;241;43m.\u001b[39;49m\u001b[43mCompletionCreateParams\u001b[49m\u001b[43m,\u001b[49m\n\u001b[0;32m    899\u001b[0m \u001b[43m        \u001b[49m\u001b[43m)\u001b[49m\u001b[43m,\u001b[49m\n\u001b[0;32m    900\u001b[0m \u001b[43m        \u001b[49m\u001b[43moptions\u001b[49m\u001b[38;5;241;43m=\u001b[39;49m\u001b[43mmake_request_options\u001b[49m\u001b[43m(\u001b[49m\n\u001b[0;32m    901\u001b[0m \u001b[43m            \u001b[49m\u001b[43mextra_headers\u001b[49m\u001b[38;5;241;43m=\u001b[39;49m\u001b[43mextra_headers\u001b[49m\u001b[43m,\u001b[49m\u001b[43m \u001b[49m\u001b[43mextra_query\u001b[49m\u001b[38;5;241;43m=\u001b[39;49m\u001b[43mextra_query\u001b[49m\u001b[43m,\u001b[49m\u001b[43m \u001b[49m\u001b[43mextra_body\u001b[49m\u001b[38;5;241;43m=\u001b[39;49m\u001b[43mextra_body\u001b[49m\u001b[43m,\u001b[49m\u001b[43m \u001b[49m\u001b[43mtimeout\u001b[49m\u001b[38;5;241;43m=\u001b[39;49m\u001b[43mtimeout\u001b[49m\n\u001b[0;32m    902\u001b[0m \u001b[43m        \u001b[49m\u001b[43m)\u001b[49m\u001b[43m,\u001b[49m\n\u001b[0;32m    903\u001b[0m \u001b[43m        \u001b[49m\u001b[43mcast_to\u001b[49m\u001b[38;5;241;43m=\u001b[39;49m\u001b[43mChatCompletion\u001b[49m\u001b[43m,\u001b[49m\n\u001b[0;32m    904\u001b[0m \u001b[43m        \u001b[49m\u001b[43mstream\u001b[49m\u001b[38;5;241;43m=\u001b[39;49m\u001b[43mstream\u001b[49m\u001b[43m \u001b[49m\u001b[38;5;129;43;01mor\u001b[39;49;00m\u001b[43m \u001b[49m\u001b[38;5;28;43;01mFalse\u001b[39;49;00m\u001b[43m,\u001b[49m\n\u001b[0;32m    905\u001b[0m \u001b[43m        \u001b[49m\u001b[43mstream_cls\u001b[49m\u001b[38;5;241;43m=\u001b[39;49m\u001b[43mStream\u001b[49m\u001b[43m[\u001b[49m\u001b[43mChatCompletionChunk\u001b[49m\u001b[43m]\u001b[49m\u001b[43m,\u001b[49m\n\u001b[0;32m    906\u001b[0m \u001b[43m    \u001b[49m\u001b[43m)\u001b[49m\n",
            "File \u001b[1;32mc:\\Users\\User\\AppData\\Local\\Programs\\Python\\Python312\\Lib\\site-packages\\openai\\_base_client.py:1283\u001b[0m, in \u001b[0;36mSyncAPIClient.post\u001b[1;34m(self, path, cast_to, body, options, files, stream, stream_cls)\u001b[0m\n\u001b[0;32m   1269\u001b[0m \u001b[38;5;28;01mdef\u001b[39;00m \u001b[38;5;21mpost\u001b[39m(\n\u001b[0;32m   1270\u001b[0m     \u001b[38;5;28mself\u001b[39m,\n\u001b[0;32m   1271\u001b[0m     path: \u001b[38;5;28mstr\u001b[39m,\n\u001b[1;32m   (...)\u001b[0m\n\u001b[0;32m   1278\u001b[0m     stream_cls: \u001b[38;5;28mtype\u001b[39m[_StreamT] \u001b[38;5;241m|\u001b[39m \u001b[38;5;28;01mNone\u001b[39;00m \u001b[38;5;241m=\u001b[39m \u001b[38;5;28;01mNone\u001b[39;00m,\n\u001b[0;32m   1279\u001b[0m ) \u001b[38;5;241m-\u001b[39m\u001b[38;5;241m>\u001b[39m ResponseT \u001b[38;5;241m|\u001b[39m _StreamT:\n\u001b[0;32m   1280\u001b[0m     opts \u001b[38;5;241m=\u001b[39m FinalRequestOptions\u001b[38;5;241m.\u001b[39mconstruct(\n\u001b[0;32m   1281\u001b[0m         method\u001b[38;5;241m=\u001b[39m\u001b[38;5;124m\"\u001b[39m\u001b[38;5;124mpost\u001b[39m\u001b[38;5;124m\"\u001b[39m, url\u001b[38;5;241m=\u001b[39mpath, json_data\u001b[38;5;241m=\u001b[39mbody, files\u001b[38;5;241m=\u001b[39mto_httpx_files(files), \u001b[38;5;241m*\u001b[39m\u001b[38;5;241m*\u001b[39moptions\n\u001b[0;32m   1282\u001b[0m     )\n\u001b[1;32m-> 1283\u001b[0m     \u001b[38;5;28;01mreturn\u001b[39;00m cast(ResponseT, \u001b[38;5;28;43mself\u001b[39;49m\u001b[38;5;241;43m.\u001b[39;49m\u001b[43mrequest\u001b[49m\u001b[43m(\u001b[49m\u001b[43mcast_to\u001b[49m\u001b[43m,\u001b[49m\u001b[43m \u001b[49m\u001b[43mopts\u001b[49m\u001b[43m,\u001b[49m\u001b[43m \u001b[49m\u001b[43mstream\u001b[49m\u001b[38;5;241;43m=\u001b[39;49m\u001b[43mstream\u001b[49m\u001b[43m,\u001b[49m\u001b[43m \u001b[49m\u001b[43mstream_cls\u001b[49m\u001b[38;5;241;43m=\u001b[39;49m\u001b[43mstream_cls\u001b[49m\u001b[43m)\u001b[49m)\n",
            "File \u001b[1;32mc:\\Users\\User\\AppData\\Local\\Programs\\Python\\Python312\\Lib\\site-packages\\openai\\_base_client.py:960\u001b[0m, in \u001b[0;36mSyncAPIClient.request\u001b[1;34m(self, cast_to, options, remaining_retries, stream, stream_cls)\u001b[0m\n\u001b[0;32m    957\u001b[0m \u001b[38;5;28;01melse\u001b[39;00m:\n\u001b[0;32m    958\u001b[0m     retries_taken \u001b[38;5;241m=\u001b[39m \u001b[38;5;241m0\u001b[39m\n\u001b[1;32m--> 960\u001b[0m \u001b[38;5;28;01mreturn\u001b[39;00m \u001b[38;5;28;43mself\u001b[39;49m\u001b[38;5;241;43m.\u001b[39;49m\u001b[43m_request\u001b[49m\u001b[43m(\u001b[49m\n\u001b[0;32m    961\u001b[0m \u001b[43m    \u001b[49m\u001b[43mcast_to\u001b[49m\u001b[38;5;241;43m=\u001b[39;49m\u001b[43mcast_to\u001b[49m\u001b[43m,\u001b[49m\n\u001b[0;32m    962\u001b[0m \u001b[43m    \u001b[49m\u001b[43moptions\u001b[49m\u001b[38;5;241;43m=\u001b[39;49m\u001b[43moptions\u001b[49m\u001b[43m,\u001b[49m\n\u001b[0;32m    963\u001b[0m \u001b[43m    \u001b[49m\u001b[43mstream\u001b[49m\u001b[38;5;241;43m=\u001b[39;49m\u001b[43mstream\u001b[49m\u001b[43m,\u001b[49m\n\u001b[0;32m    964\u001b[0m \u001b[43m    \u001b[49m\u001b[43mstream_cls\u001b[49m\u001b[38;5;241;43m=\u001b[39;49m\u001b[43mstream_cls\u001b[49m\u001b[43m,\u001b[49m\n\u001b[0;32m    965\u001b[0m \u001b[43m    \u001b[49m\u001b[43mretries_taken\u001b[49m\u001b[38;5;241;43m=\u001b[39;49m\u001b[43mretries_taken\u001b[49m\u001b[43m,\u001b[49m\n\u001b[0;32m    966\u001b[0m \u001b[43m\u001b[49m\u001b[43m)\u001b[49m\n",
            "File \u001b[1;32mc:\\Users\\User\\AppData\\Local\\Programs\\Python\\Python312\\Lib\\site-packages\\openai\\_base_client.py:996\u001b[0m, in \u001b[0;36mSyncAPIClient._request\u001b[1;34m(self, cast_to, options, retries_taken, stream, stream_cls)\u001b[0m\n\u001b[0;32m    993\u001b[0m log\u001b[38;5;241m.\u001b[39mdebug(\u001b[38;5;124m\"\u001b[39m\u001b[38;5;124mSending HTTP Request: \u001b[39m\u001b[38;5;132;01m%s\u001b[39;00m\u001b[38;5;124m \u001b[39m\u001b[38;5;132;01m%s\u001b[39;00m\u001b[38;5;124m\"\u001b[39m, request\u001b[38;5;241m.\u001b[39mmethod, request\u001b[38;5;241m.\u001b[39murl)\n\u001b[0;32m    995\u001b[0m \u001b[38;5;28;01mtry\u001b[39;00m:\n\u001b[1;32m--> 996\u001b[0m     response \u001b[38;5;241m=\u001b[39m \u001b[38;5;28;43mself\u001b[39;49m\u001b[38;5;241;43m.\u001b[39;49m\u001b[43m_client\u001b[49m\u001b[38;5;241;43m.\u001b[39;49m\u001b[43msend\u001b[49m\u001b[43m(\u001b[49m\n\u001b[0;32m    997\u001b[0m \u001b[43m        \u001b[49m\u001b[43mrequest\u001b[49m\u001b[43m,\u001b[49m\n\u001b[0;32m    998\u001b[0m \u001b[43m        \u001b[49m\u001b[43mstream\u001b[49m\u001b[38;5;241;43m=\u001b[39;49m\u001b[43mstream\u001b[49m\u001b[43m \u001b[49m\u001b[38;5;129;43;01mor\u001b[39;49;00m\u001b[43m \u001b[49m\u001b[38;5;28;43mself\u001b[39;49m\u001b[38;5;241;43m.\u001b[39;49m\u001b[43m_should_stream_response_body\u001b[49m\u001b[43m(\u001b[49m\u001b[43mrequest\u001b[49m\u001b[38;5;241;43m=\u001b[39;49m\u001b[43mrequest\u001b[49m\u001b[43m)\u001b[49m\u001b[43m,\u001b[49m\n\u001b[0;32m    999\u001b[0m \u001b[43m        \u001b[49m\u001b[38;5;241;43m*\u001b[39;49m\u001b[38;5;241;43m*\u001b[39;49m\u001b[43mkwargs\u001b[49m\u001b[43m,\u001b[49m\n\u001b[0;32m   1000\u001b[0m \u001b[43m    \u001b[49m\u001b[43m)\u001b[49m\n\u001b[0;32m   1001\u001b[0m \u001b[38;5;28;01mexcept\u001b[39;00m httpx\u001b[38;5;241m.\u001b[39mTimeoutException \u001b[38;5;28;01mas\u001b[39;00m err:\n\u001b[0;32m   1002\u001b[0m     log\u001b[38;5;241m.\u001b[39mdebug(\u001b[38;5;124m\"\u001b[39m\u001b[38;5;124mEncountered httpx.TimeoutException\u001b[39m\u001b[38;5;124m\"\u001b[39m, exc_info\u001b[38;5;241m=\u001b[39m\u001b[38;5;28;01mTrue\u001b[39;00m)\n",
            "File \u001b[1;32mc:\\Users\\User\\AppData\\Local\\Programs\\Python\\Python312\\Lib\\site-packages\\httpx\\_client.py:926\u001b[0m, in \u001b[0;36mClient.send\u001b[1;34m(self, request, stream, auth, follow_redirects)\u001b[0m\n\u001b[0;32m    922\u001b[0m \u001b[38;5;28mself\u001b[39m\u001b[38;5;241m.\u001b[39m_set_timeout(request)\n\u001b[0;32m    924\u001b[0m auth \u001b[38;5;241m=\u001b[39m \u001b[38;5;28mself\u001b[39m\u001b[38;5;241m.\u001b[39m_build_request_auth(request, auth)\n\u001b[1;32m--> 926\u001b[0m response \u001b[38;5;241m=\u001b[39m \u001b[38;5;28;43mself\u001b[39;49m\u001b[38;5;241;43m.\u001b[39;49m\u001b[43m_send_handling_auth\u001b[49m\u001b[43m(\u001b[49m\n\u001b[0;32m    927\u001b[0m \u001b[43m    \u001b[49m\u001b[43mrequest\u001b[49m\u001b[43m,\u001b[49m\n\u001b[0;32m    928\u001b[0m \u001b[43m    \u001b[49m\u001b[43mauth\u001b[49m\u001b[38;5;241;43m=\u001b[39;49m\u001b[43mauth\u001b[49m\u001b[43m,\u001b[49m\n\u001b[0;32m    929\u001b[0m \u001b[43m    \u001b[49m\u001b[43mfollow_redirects\u001b[49m\u001b[38;5;241;43m=\u001b[39;49m\u001b[43mfollow_redirects\u001b[49m\u001b[43m,\u001b[49m\n\u001b[0;32m    930\u001b[0m \u001b[43m    \u001b[49m\u001b[43mhistory\u001b[49m\u001b[38;5;241;43m=\u001b[39;49m\u001b[43m[\u001b[49m\u001b[43m]\u001b[49m\u001b[43m,\u001b[49m\n\u001b[0;32m    931\u001b[0m \u001b[43m\u001b[49m\u001b[43m)\u001b[49m\n\u001b[0;32m    932\u001b[0m \u001b[38;5;28;01mtry\u001b[39;00m:\n\u001b[0;32m    933\u001b[0m     \u001b[38;5;28;01mif\u001b[39;00m \u001b[38;5;129;01mnot\u001b[39;00m stream:\n",
            "File \u001b[1;32mc:\\Users\\User\\AppData\\Local\\Programs\\Python\\Python312\\Lib\\site-packages\\httpx\\_client.py:954\u001b[0m, in \u001b[0;36mClient._send_handling_auth\u001b[1;34m(self, request, auth, follow_redirects, history)\u001b[0m\n\u001b[0;32m    951\u001b[0m request \u001b[38;5;241m=\u001b[39m \u001b[38;5;28mnext\u001b[39m(auth_flow)\n\u001b[0;32m    953\u001b[0m \u001b[38;5;28;01mwhile\u001b[39;00m \u001b[38;5;28;01mTrue\u001b[39;00m:\n\u001b[1;32m--> 954\u001b[0m     response \u001b[38;5;241m=\u001b[39m \u001b[38;5;28;43mself\u001b[39;49m\u001b[38;5;241;43m.\u001b[39;49m\u001b[43m_send_handling_redirects\u001b[49m\u001b[43m(\u001b[49m\n\u001b[0;32m    955\u001b[0m \u001b[43m        \u001b[49m\u001b[43mrequest\u001b[49m\u001b[43m,\u001b[49m\n\u001b[0;32m    956\u001b[0m \u001b[43m        \u001b[49m\u001b[43mfollow_redirects\u001b[49m\u001b[38;5;241;43m=\u001b[39;49m\u001b[43mfollow_redirects\u001b[49m\u001b[43m,\u001b[49m\n\u001b[0;32m    957\u001b[0m \u001b[43m        \u001b[49m\u001b[43mhistory\u001b[49m\u001b[38;5;241;43m=\u001b[39;49m\u001b[43mhistory\u001b[49m\u001b[43m,\u001b[49m\n\u001b[0;32m    958\u001b[0m \u001b[43m    \u001b[49m\u001b[43m)\u001b[49m\n\u001b[0;32m    959\u001b[0m     \u001b[38;5;28;01mtry\u001b[39;00m:\n\u001b[0;32m    960\u001b[0m         \u001b[38;5;28;01mtry\u001b[39;00m:\n",
            "File \u001b[1;32mc:\\Users\\User\\AppData\\Local\\Programs\\Python\\Python312\\Lib\\site-packages\\httpx\\_client.py:991\u001b[0m, in \u001b[0;36mClient._send_handling_redirects\u001b[1;34m(self, request, follow_redirects, history)\u001b[0m\n\u001b[0;32m    988\u001b[0m \u001b[38;5;28;01mfor\u001b[39;00m hook \u001b[38;5;129;01min\u001b[39;00m \u001b[38;5;28mself\u001b[39m\u001b[38;5;241m.\u001b[39m_event_hooks[\u001b[38;5;124m\"\u001b[39m\u001b[38;5;124mrequest\u001b[39m\u001b[38;5;124m\"\u001b[39m]:\n\u001b[0;32m    989\u001b[0m     hook(request)\n\u001b[1;32m--> 991\u001b[0m response \u001b[38;5;241m=\u001b[39m \u001b[38;5;28;43mself\u001b[39;49m\u001b[38;5;241;43m.\u001b[39;49m\u001b[43m_send_single_request\u001b[49m\u001b[43m(\u001b[49m\u001b[43mrequest\u001b[49m\u001b[43m)\u001b[49m\n\u001b[0;32m    992\u001b[0m \u001b[38;5;28;01mtry\u001b[39;00m:\n\u001b[0;32m    993\u001b[0m     \u001b[38;5;28;01mfor\u001b[39;00m hook \u001b[38;5;129;01min\u001b[39;00m \u001b[38;5;28mself\u001b[39m\u001b[38;5;241m.\u001b[39m_event_hooks[\u001b[38;5;124m\"\u001b[39m\u001b[38;5;124mresponse\u001b[39m\u001b[38;5;124m\"\u001b[39m]:\n",
            "File \u001b[1;32mc:\\Users\\User\\AppData\\Local\\Programs\\Python\\Python312\\Lib\\site-packages\\httpx\\_client.py:1027\u001b[0m, in \u001b[0;36mClient._send_single_request\u001b[1;34m(self, request)\u001b[0m\n\u001b[0;32m   1022\u001b[0m     \u001b[38;5;28;01mraise\u001b[39;00m \u001b[38;5;167;01mRuntimeError\u001b[39;00m(\n\u001b[0;32m   1023\u001b[0m         \u001b[38;5;124m\"\u001b[39m\u001b[38;5;124mAttempted to send an async request with a sync Client instance.\u001b[39m\u001b[38;5;124m\"\u001b[39m\n\u001b[0;32m   1024\u001b[0m     )\n\u001b[0;32m   1026\u001b[0m \u001b[38;5;28;01mwith\u001b[39;00m request_context(request\u001b[38;5;241m=\u001b[39mrequest):\n\u001b[1;32m-> 1027\u001b[0m     response \u001b[38;5;241m=\u001b[39m \u001b[43mtransport\u001b[49m\u001b[38;5;241;43m.\u001b[39;49m\u001b[43mhandle_request\u001b[49m\u001b[43m(\u001b[49m\u001b[43mrequest\u001b[49m\u001b[43m)\u001b[49m\n\u001b[0;32m   1029\u001b[0m \u001b[38;5;28;01massert\u001b[39;00m \u001b[38;5;28misinstance\u001b[39m(response\u001b[38;5;241m.\u001b[39mstream, SyncByteStream)\n\u001b[0;32m   1031\u001b[0m response\u001b[38;5;241m.\u001b[39mrequest \u001b[38;5;241m=\u001b[39m request\n",
            "File \u001b[1;32mc:\\Users\\User\\AppData\\Local\\Programs\\Python\\Python312\\Lib\\site-packages\\httpx\\_transports\\default.py:236\u001b[0m, in \u001b[0;36mHTTPTransport.handle_request\u001b[1;34m(self, request)\u001b[0m\n\u001b[0;32m    223\u001b[0m req \u001b[38;5;241m=\u001b[39m httpcore\u001b[38;5;241m.\u001b[39mRequest(\n\u001b[0;32m    224\u001b[0m     method\u001b[38;5;241m=\u001b[39mrequest\u001b[38;5;241m.\u001b[39mmethod,\n\u001b[0;32m    225\u001b[0m     url\u001b[38;5;241m=\u001b[39mhttpcore\u001b[38;5;241m.\u001b[39mURL(\n\u001b[1;32m   (...)\u001b[0m\n\u001b[0;32m    233\u001b[0m     extensions\u001b[38;5;241m=\u001b[39mrequest\u001b[38;5;241m.\u001b[39mextensions,\n\u001b[0;32m    234\u001b[0m )\n\u001b[0;32m    235\u001b[0m \u001b[38;5;28;01mwith\u001b[39;00m map_httpcore_exceptions():\n\u001b[1;32m--> 236\u001b[0m     resp \u001b[38;5;241m=\u001b[39m \u001b[38;5;28;43mself\u001b[39;49m\u001b[38;5;241;43m.\u001b[39;49m\u001b[43m_pool\u001b[49m\u001b[38;5;241;43m.\u001b[39;49m\u001b[43mhandle_request\u001b[49m\u001b[43m(\u001b[49m\u001b[43mreq\u001b[49m\u001b[43m)\u001b[49m\n\u001b[0;32m    238\u001b[0m \u001b[38;5;28;01massert\u001b[39;00m \u001b[38;5;28misinstance\u001b[39m(resp\u001b[38;5;241m.\u001b[39mstream, typing\u001b[38;5;241m.\u001b[39mIterable)\n\u001b[0;32m    240\u001b[0m \u001b[38;5;28;01mreturn\u001b[39;00m Response(\n\u001b[0;32m    241\u001b[0m     status_code\u001b[38;5;241m=\u001b[39mresp\u001b[38;5;241m.\u001b[39mstatus,\n\u001b[0;32m    242\u001b[0m     headers\u001b[38;5;241m=\u001b[39mresp\u001b[38;5;241m.\u001b[39mheaders,\n\u001b[0;32m    243\u001b[0m     stream\u001b[38;5;241m=\u001b[39mResponseStream(resp\u001b[38;5;241m.\u001b[39mstream),\n\u001b[0;32m    244\u001b[0m     extensions\u001b[38;5;241m=\u001b[39mresp\u001b[38;5;241m.\u001b[39mextensions,\n\u001b[0;32m    245\u001b[0m )\n",
            "File \u001b[1;32mc:\\Users\\User\\AppData\\Local\\Programs\\Python\\Python312\\Lib\\site-packages\\httpcore\\_sync\\connection_pool.py:216\u001b[0m, in \u001b[0;36mConnectionPool.handle_request\u001b[1;34m(self, request)\u001b[0m\n\u001b[0;32m    213\u001b[0m         closing \u001b[38;5;241m=\u001b[39m \u001b[38;5;28mself\u001b[39m\u001b[38;5;241m.\u001b[39m_assign_requests_to_connections()\n\u001b[0;32m    215\u001b[0m     \u001b[38;5;28mself\u001b[39m\u001b[38;5;241m.\u001b[39m_close_connections(closing)\n\u001b[1;32m--> 216\u001b[0m     \u001b[38;5;28;01mraise\u001b[39;00m exc \u001b[38;5;28;01mfrom\u001b[39;00m \u001b[38;5;28;01mNone\u001b[39;00m\n\u001b[0;32m    218\u001b[0m \u001b[38;5;66;03m# Return the response. Note that in this case we still have to manage\u001b[39;00m\n\u001b[0;32m    219\u001b[0m \u001b[38;5;66;03m# the point at which the response is closed.\u001b[39;00m\n\u001b[0;32m    220\u001b[0m \u001b[38;5;28;01massert\u001b[39;00m \u001b[38;5;28misinstance\u001b[39m(response\u001b[38;5;241m.\u001b[39mstream, Iterable)\n",
            "File \u001b[1;32mc:\\Users\\User\\AppData\\Local\\Programs\\Python\\Python312\\Lib\\site-packages\\httpcore\\_sync\\connection_pool.py:196\u001b[0m, in \u001b[0;36mConnectionPool.handle_request\u001b[1;34m(self, request)\u001b[0m\n\u001b[0;32m    192\u001b[0m connection \u001b[38;5;241m=\u001b[39m pool_request\u001b[38;5;241m.\u001b[39mwait_for_connection(timeout\u001b[38;5;241m=\u001b[39mtimeout)\n\u001b[0;32m    194\u001b[0m \u001b[38;5;28;01mtry\u001b[39;00m:\n\u001b[0;32m    195\u001b[0m     \u001b[38;5;66;03m# Send the request on the assigned connection.\u001b[39;00m\n\u001b[1;32m--> 196\u001b[0m     response \u001b[38;5;241m=\u001b[39m \u001b[43mconnection\u001b[49m\u001b[38;5;241;43m.\u001b[39;49m\u001b[43mhandle_request\u001b[49m\u001b[43m(\u001b[49m\n\u001b[0;32m    197\u001b[0m \u001b[43m        \u001b[49m\u001b[43mpool_request\u001b[49m\u001b[38;5;241;43m.\u001b[39;49m\u001b[43mrequest\u001b[49m\n\u001b[0;32m    198\u001b[0m \u001b[43m    \u001b[49m\u001b[43m)\u001b[49m\n\u001b[0;32m    199\u001b[0m \u001b[38;5;28;01mexcept\u001b[39;00m ConnectionNotAvailable:\n\u001b[0;32m    200\u001b[0m     \u001b[38;5;66;03m# In some cases a connection may initially be available to\u001b[39;00m\n\u001b[0;32m    201\u001b[0m     \u001b[38;5;66;03m# handle a request, but then become unavailable.\u001b[39;00m\n\u001b[0;32m    202\u001b[0m     \u001b[38;5;66;03m#\u001b[39;00m\n\u001b[0;32m    203\u001b[0m     \u001b[38;5;66;03m# In this case we clear the connection and try again.\u001b[39;00m\n\u001b[0;32m    204\u001b[0m     pool_request\u001b[38;5;241m.\u001b[39mclear_connection()\n",
            "File \u001b[1;32mc:\\Users\\User\\AppData\\Local\\Programs\\Python\\Python312\\Lib\\site-packages\\httpcore\\_sync\\connection.py:101\u001b[0m, in \u001b[0;36mHTTPConnection.handle_request\u001b[1;34m(self, request)\u001b[0m\n\u001b[0;32m     98\u001b[0m     \u001b[38;5;28mself\u001b[39m\u001b[38;5;241m.\u001b[39m_connect_failed \u001b[38;5;241m=\u001b[39m \u001b[38;5;28;01mTrue\u001b[39;00m\n\u001b[0;32m     99\u001b[0m     \u001b[38;5;28;01mraise\u001b[39;00m exc\n\u001b[1;32m--> 101\u001b[0m \u001b[38;5;28;01mreturn\u001b[39;00m \u001b[38;5;28;43mself\u001b[39;49m\u001b[38;5;241;43m.\u001b[39;49m\u001b[43m_connection\u001b[49m\u001b[38;5;241;43m.\u001b[39;49m\u001b[43mhandle_request\u001b[49m\u001b[43m(\u001b[49m\u001b[43mrequest\u001b[49m\u001b[43m)\u001b[49m\n",
            "File \u001b[1;32mc:\\Users\\User\\AppData\\Local\\Programs\\Python\\Python312\\Lib\\site-packages\\httpcore\\_sync\\http11.py:143\u001b[0m, in \u001b[0;36mHTTP11Connection.handle_request\u001b[1;34m(self, request)\u001b[0m\n\u001b[0;32m    141\u001b[0m     \u001b[38;5;28;01mwith\u001b[39;00m Trace(\u001b[38;5;124m\"\u001b[39m\u001b[38;5;124mresponse_closed\u001b[39m\u001b[38;5;124m\"\u001b[39m, logger, request) \u001b[38;5;28;01mas\u001b[39;00m trace:\n\u001b[0;32m    142\u001b[0m         \u001b[38;5;28mself\u001b[39m\u001b[38;5;241m.\u001b[39m_response_closed()\n\u001b[1;32m--> 143\u001b[0m \u001b[38;5;28;01mraise\u001b[39;00m exc\n",
            "File \u001b[1;32mc:\\Users\\User\\AppData\\Local\\Programs\\Python\\Python312\\Lib\\site-packages\\httpcore\\_sync\\http11.py:113\u001b[0m, in \u001b[0;36mHTTP11Connection.handle_request\u001b[1;34m(self, request)\u001b[0m\n\u001b[0;32m    102\u001b[0m     \u001b[38;5;28;01mpass\u001b[39;00m\n\u001b[0;32m    104\u001b[0m \u001b[38;5;28;01mwith\u001b[39;00m Trace(\n\u001b[0;32m    105\u001b[0m     \u001b[38;5;124m\"\u001b[39m\u001b[38;5;124mreceive_response_headers\u001b[39m\u001b[38;5;124m\"\u001b[39m, logger, request, kwargs\n\u001b[0;32m    106\u001b[0m ) \u001b[38;5;28;01mas\u001b[39;00m trace:\n\u001b[0;32m    107\u001b[0m     (\n\u001b[0;32m    108\u001b[0m         http_version,\n\u001b[0;32m    109\u001b[0m         status,\n\u001b[0;32m    110\u001b[0m         reason_phrase,\n\u001b[0;32m    111\u001b[0m         headers,\n\u001b[0;32m    112\u001b[0m         trailing_data,\n\u001b[1;32m--> 113\u001b[0m     ) \u001b[38;5;241m=\u001b[39m \u001b[38;5;28;43mself\u001b[39;49m\u001b[38;5;241;43m.\u001b[39;49m\u001b[43m_receive_response_headers\u001b[49m\u001b[43m(\u001b[49m\u001b[38;5;241;43m*\u001b[39;49m\u001b[38;5;241;43m*\u001b[39;49m\u001b[43mkwargs\u001b[49m\u001b[43m)\u001b[49m\n\u001b[0;32m    114\u001b[0m     trace\u001b[38;5;241m.\u001b[39mreturn_value \u001b[38;5;241m=\u001b[39m (\n\u001b[0;32m    115\u001b[0m         http_version,\n\u001b[0;32m    116\u001b[0m         status,\n\u001b[0;32m    117\u001b[0m         reason_phrase,\n\u001b[0;32m    118\u001b[0m         headers,\n\u001b[0;32m    119\u001b[0m     )\n\u001b[0;32m    121\u001b[0m network_stream \u001b[38;5;241m=\u001b[39m \u001b[38;5;28mself\u001b[39m\u001b[38;5;241m.\u001b[39m_network_stream\n",
            "File \u001b[1;32mc:\\Users\\User\\AppData\\Local\\Programs\\Python\\Python312\\Lib\\site-packages\\httpcore\\_sync\\http11.py:186\u001b[0m, in \u001b[0;36mHTTP11Connection._receive_response_headers\u001b[1;34m(self, request)\u001b[0m\n\u001b[0;32m    183\u001b[0m timeout \u001b[38;5;241m=\u001b[39m timeouts\u001b[38;5;241m.\u001b[39mget(\u001b[38;5;124m\"\u001b[39m\u001b[38;5;124mread\u001b[39m\u001b[38;5;124m\"\u001b[39m, \u001b[38;5;28;01mNone\u001b[39;00m)\n\u001b[0;32m    185\u001b[0m \u001b[38;5;28;01mwhile\u001b[39;00m \u001b[38;5;28;01mTrue\u001b[39;00m:\n\u001b[1;32m--> 186\u001b[0m     event \u001b[38;5;241m=\u001b[39m \u001b[38;5;28;43mself\u001b[39;49m\u001b[38;5;241;43m.\u001b[39;49m\u001b[43m_receive_event\u001b[49m\u001b[43m(\u001b[49m\u001b[43mtimeout\u001b[49m\u001b[38;5;241;43m=\u001b[39;49m\u001b[43mtimeout\u001b[49m\u001b[43m)\u001b[49m\n\u001b[0;32m    187\u001b[0m     \u001b[38;5;28;01mif\u001b[39;00m \u001b[38;5;28misinstance\u001b[39m(event, h11\u001b[38;5;241m.\u001b[39mResponse):\n\u001b[0;32m    188\u001b[0m         \u001b[38;5;28;01mbreak\u001b[39;00m\n",
            "File \u001b[1;32mc:\\Users\\User\\AppData\\Local\\Programs\\Python\\Python312\\Lib\\site-packages\\httpcore\\_sync\\http11.py:224\u001b[0m, in \u001b[0;36mHTTP11Connection._receive_event\u001b[1;34m(self, timeout)\u001b[0m\n\u001b[0;32m    221\u001b[0m     event \u001b[38;5;241m=\u001b[39m \u001b[38;5;28mself\u001b[39m\u001b[38;5;241m.\u001b[39m_h11_state\u001b[38;5;241m.\u001b[39mnext_event()\n\u001b[0;32m    223\u001b[0m \u001b[38;5;28;01mif\u001b[39;00m event \u001b[38;5;129;01mis\u001b[39;00m h11\u001b[38;5;241m.\u001b[39mNEED_DATA:\n\u001b[1;32m--> 224\u001b[0m     data \u001b[38;5;241m=\u001b[39m \u001b[38;5;28;43mself\u001b[39;49m\u001b[38;5;241;43m.\u001b[39;49m\u001b[43m_network_stream\u001b[49m\u001b[38;5;241;43m.\u001b[39;49m\u001b[43mread\u001b[49m\u001b[43m(\u001b[49m\n\u001b[0;32m    225\u001b[0m \u001b[43m        \u001b[49m\u001b[38;5;28;43mself\u001b[39;49m\u001b[38;5;241;43m.\u001b[39;49m\u001b[43mREAD_NUM_BYTES\u001b[49m\u001b[43m,\u001b[49m\u001b[43m \u001b[49m\u001b[43mtimeout\u001b[49m\u001b[38;5;241;43m=\u001b[39;49m\u001b[43mtimeout\u001b[49m\n\u001b[0;32m    226\u001b[0m \u001b[43m    \u001b[49m\u001b[43m)\u001b[49m\n\u001b[0;32m    228\u001b[0m     \u001b[38;5;66;03m# If we feed this case through h11 we'll raise an exception like:\u001b[39;00m\n\u001b[0;32m    229\u001b[0m     \u001b[38;5;66;03m#\u001b[39;00m\n\u001b[0;32m    230\u001b[0m     \u001b[38;5;66;03m#     httpcore.RemoteProtocolError: can't handle event type\u001b[39;00m\n\u001b[1;32m   (...)\u001b[0m\n\u001b[0;32m    234\u001b[0m     \u001b[38;5;66;03m# perspective. Instead we handle this case distinctly and treat\u001b[39;00m\n\u001b[0;32m    235\u001b[0m     \u001b[38;5;66;03m# it as a ConnectError.\u001b[39;00m\n\u001b[0;32m    236\u001b[0m     \u001b[38;5;28;01mif\u001b[39;00m data \u001b[38;5;241m==\u001b[39m \u001b[38;5;124mb\u001b[39m\u001b[38;5;124m\"\u001b[39m\u001b[38;5;124m\"\u001b[39m \u001b[38;5;129;01mand\u001b[39;00m \u001b[38;5;28mself\u001b[39m\u001b[38;5;241m.\u001b[39m_h11_state\u001b[38;5;241m.\u001b[39mtheir_state \u001b[38;5;241m==\u001b[39m h11\u001b[38;5;241m.\u001b[39mSEND_RESPONSE:\n",
            "File \u001b[1;32mc:\\Users\\User\\AppData\\Local\\Programs\\Python\\Python312\\Lib\\site-packages\\httpcore\\_backends\\sync.py:126\u001b[0m, in \u001b[0;36mSyncStream.read\u001b[1;34m(self, max_bytes, timeout)\u001b[0m\n\u001b[0;32m    124\u001b[0m \u001b[38;5;28;01mwith\u001b[39;00m map_exceptions(exc_map):\n\u001b[0;32m    125\u001b[0m     \u001b[38;5;28mself\u001b[39m\u001b[38;5;241m.\u001b[39m_sock\u001b[38;5;241m.\u001b[39msettimeout(timeout)\n\u001b[1;32m--> 126\u001b[0m     \u001b[38;5;28;01mreturn\u001b[39;00m \u001b[38;5;28;43mself\u001b[39;49m\u001b[38;5;241;43m.\u001b[39;49m\u001b[43m_sock\u001b[49m\u001b[38;5;241;43m.\u001b[39;49m\u001b[43mrecv\u001b[49m\u001b[43m(\u001b[49m\u001b[43mmax_bytes\u001b[49m\u001b[43m)\u001b[49m\n",
            "File \u001b[1;32mc:\\Users\\User\\AppData\\Local\\Programs\\Python\\Python312\\Lib\\ssl.py:1232\u001b[0m, in \u001b[0;36mSSLSocket.recv\u001b[1;34m(self, buflen, flags)\u001b[0m\n\u001b[0;32m   1228\u001b[0m     \u001b[38;5;28;01mif\u001b[39;00m flags \u001b[38;5;241m!=\u001b[39m \u001b[38;5;241m0\u001b[39m:\n\u001b[0;32m   1229\u001b[0m         \u001b[38;5;28;01mraise\u001b[39;00m \u001b[38;5;167;01mValueError\u001b[39;00m(\n\u001b[0;32m   1230\u001b[0m             \u001b[38;5;124m\"\u001b[39m\u001b[38;5;124mnon-zero flags not allowed in calls to recv() on \u001b[39m\u001b[38;5;132;01m%s\u001b[39;00m\u001b[38;5;124m\"\u001b[39m \u001b[38;5;241m%\u001b[39m\n\u001b[0;32m   1231\u001b[0m             \u001b[38;5;28mself\u001b[39m\u001b[38;5;241m.\u001b[39m\u001b[38;5;18m__class__\u001b[39m)\n\u001b[1;32m-> 1232\u001b[0m     \u001b[38;5;28;01mreturn\u001b[39;00m \u001b[38;5;28;43mself\u001b[39;49m\u001b[38;5;241;43m.\u001b[39;49m\u001b[43mread\u001b[49m\u001b[43m(\u001b[49m\u001b[43mbuflen\u001b[49m\u001b[43m)\u001b[49m\n\u001b[0;32m   1233\u001b[0m \u001b[38;5;28;01melse\u001b[39;00m:\n\u001b[0;32m   1234\u001b[0m     \u001b[38;5;28;01mreturn\u001b[39;00m \u001b[38;5;28msuper\u001b[39m()\u001b[38;5;241m.\u001b[39mrecv(buflen, flags)\n",
            "File \u001b[1;32mc:\\Users\\User\\AppData\\Local\\Programs\\Python\\Python312\\Lib\\ssl.py:1105\u001b[0m, in \u001b[0;36mSSLSocket.read\u001b[1;34m(self, len, buffer)\u001b[0m\n\u001b[0;32m   1103\u001b[0m         \u001b[38;5;28;01mreturn\u001b[39;00m \u001b[38;5;28mself\u001b[39m\u001b[38;5;241m.\u001b[39m_sslobj\u001b[38;5;241m.\u001b[39mread(\u001b[38;5;28mlen\u001b[39m, buffer)\n\u001b[0;32m   1104\u001b[0m     \u001b[38;5;28;01melse\u001b[39;00m:\n\u001b[1;32m-> 1105\u001b[0m         \u001b[38;5;28;01mreturn\u001b[39;00m \u001b[38;5;28;43mself\u001b[39;49m\u001b[38;5;241;43m.\u001b[39;49m\u001b[43m_sslobj\u001b[49m\u001b[38;5;241;43m.\u001b[39;49m\u001b[43mread\u001b[49m\u001b[43m(\u001b[49m\u001b[38;5;28;43mlen\u001b[39;49m\u001b[43m)\u001b[49m\n\u001b[0;32m   1106\u001b[0m \u001b[38;5;28;01mexcept\u001b[39;00m SSLError \u001b[38;5;28;01mas\u001b[39;00m x:\n\u001b[0;32m   1107\u001b[0m     \u001b[38;5;28;01mif\u001b[39;00m x\u001b[38;5;241m.\u001b[39margs[\u001b[38;5;241m0\u001b[39m] \u001b[38;5;241m==\u001b[39m SSL_ERROR_EOF \u001b[38;5;129;01mand\u001b[39;00m \u001b[38;5;28mself\u001b[39m\u001b[38;5;241m.\u001b[39msuppress_ragged_eofs:\n",
            "\u001b[1;31mKeyboardInterrupt\u001b[0m: "
          ]
        }
      ],
      "source": [
        "#abstract_text_and_save\n",
        "for img_path in tqdm(img_paths):\n",
        "    md_text   = get_text_from_img(img_path)\n",
        "    file_name = get_filename_without_extension(img_path)\n",
        "    with open( pdf_text_folder_path+ f'{file_name}.md', 'w') as f:\n",
        "        f.write(md_text)\n",
        "        f.close()\n",
        "\n",
        "\n",
        "    print(\"====================\")\n",
        "    print(pdf_text_folder_path+ f'{file_name}.md')\n",
        "    print(md_text)\n",
        "    print(\"====================\")\n"
      ]
    },
    {
      "cell_type": "code",
      "execution_count": null,
      "id": "1fdfdb82",
      "metadata": {},
      "outputs": [
        {
          "name": "stderr",
          "output_type": "stream",
          "text": [
            "  0%|          | 0/1539 [00:00<?, ?it/s]"
          ]
        }
      ],
      "source": [
        "# # multiprocessing_ver\n",
        "# ### 動作しないためNG\n",
        "\n",
        "# def abstract_text_and_save(img_path):\n",
        "#     md_text = get_text_from_img(img_path)\n",
        "#     file_name = get_filename_without_extension(img_path)\n",
        "#     with open(pdf_text_folder_path + f'{file_name}.md', 'w') as f:\n",
        "#         f.write(md_text)\n",
        "\n",
        "# if __name__ == '__main__':\n",
        "#     # 画像パスのリストを取得\n",
        "\n",
        "#     # プロセスプールを作成し、並列処理\n",
        "#     with Pool(cpu_count()) as p:\n",
        "#         list(tqdm(p.imap(abstract_text_and_save, \n",
        "#                          img_paths), \n",
        "#                   total=len(img_paths)))\n"
      ]
    }
  ],
  "metadata": {
    "kernelspec": {
      "display_name": "Python 3",
      "language": "python",
      "name": "python3"
    },
    "language_info": {
      "codemirror_mode": {
        "name": "ipython",
        "version": 3
      },
      "file_extension": ".py",
      "mimetype": "text/x-python",
      "name": "python",
      "nbconvert_exporter": "python",
      "pygments_lexer": "ipython3",
      "version": "3.12.8"
    }
  },
  "nbformat": 4,
  "nbformat_minor": 5
}
