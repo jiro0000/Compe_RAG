{
  "cells": [
    {
      "cell_type": "code",
      "execution_count": 22,
      "metadata": {},
      "outputs": [],
      "source": [
        "import os\n",
        "from openai import AzureOpenAI  # Azure OpenAI のクライアントクラス\n",
        "import numpy as np             # 数値計算ライブラリ（ベクトル演算など）\n",
        "from dotenv import load_dotenv\n",
        "import pandas as pd"
      ]
    },
    {
      "cell_type": "code",
      "execution_count": 8,
      "id": "468f83bf",
      "metadata": {},
      "outputs": [],
      "source": [
        "# Load environment variables from .env file\n",
        "load_dotenv()\n",
        "\n",
        "AZURE_OPENAI_API_KEY = os.getenv(\"AZURE_OPENAI_API_KEY\")\n",
        "AZURE_OPENAI_ENDPOINT = os.getenv(\"AZURE_OPENAI_ENDPOINT\")\n",
        "API_VERSION = os.getenv(\"API_VERSION\")\n",
        "DEPLOYMENT_ID_FOR_CHAT_COMPLETION = os.getenv(\"DEPLOYMENT_ID_FOR_CHAT_COMPLETION\")\n",
        "DEPLOYMENT_ID_FOR_EMBEDDING = os.getenv(\"DEPLOYMENT_ID_FOR_EMBEDDING\")\n",
        "\n",
        "# 【1-3】AzureOpenAI のクライアントを初期化\n",
        "client = AzureOpenAI(\n",
        "    api_key=AZURE_OPENAI_API_KEY,\n",
        "    azure_endpoint=AZURE_OPENAI_ENDPOINT,\n",
        "    api_version=API_VERSION\n",
        ")\n"
      ]
    },
    {
      "cell_type": "code",
      "execution_count": 17,
      "id": "5dd9523d",
      "metadata": {},
      "outputs": [],
      "source": [
        "def get_filename_without_extension(file_path):\n",
        "    return os.path.splitext(os.path.basename(file_path))[0]"
      ]
    },
    {
      "cell_type": "code",
      "execution_count": 9,
      "id": "35200cb7",
      "metadata": {},
      "outputs": [],
      "source": [
        "#フォルダパス内のファイルパスを取得する関数\n",
        "def get_file_paths(folder_path):\n",
        "    file_paths = []\n",
        "    for root, _, files in os.walk(folder_path):\n",
        "        for file in files:\n",
        "            file_path = os.path.join(root, file)\n",
        "            file_paths.append(file_path)\n",
        "    return file_paths"
      ]
    },
    {
      "cell_type": "code",
      "execution_count": 21,
      "id": "5dca093f",
      "metadata": {},
      "outputs": [],
      "source": [
        "#set_path\n",
        "\n",
        "pdf_folder_path  = \"pdf/\"\n",
        "text_folder_path = \"text/\"\n",
        "csv_folder_path  = \"csv/\"\n",
        "\n",
        "pdf_text_folder_path = text_folder_path + \"pdf_text/\"\n",
        "pdf_summarize_text_folder_path = text_folder_path + \"pdf_summarize_text/\""
      ]
    },
    {
      "cell_type": "code",
      "execution_count": 11,
      "id": "24be91a2",
      "metadata": {},
      "outputs": [],
      "source": [
        "# get_path\n",
        "text_paths = get_file_paths(pdf_summarize_text_folder_path)"
      ]
    },
    {
      "cell_type": "code",
      "execution_count": 23,
      "metadata": {},
      "outputs": [],
      "source": [
        "total_info = []\n",
        "for text_path in text_paths:\n",
        "    file_name = get_filename_without_extension(text_path)\n",
        "\n",
        "    #textの読込\n",
        "    with open(text_path, \"r\", encoding=\"utf-8\") as f:\n",
        "        text = f.read()\n",
        "\n",
        "    # Azure OpenAI Service の Embedding APIを呼び出し\n",
        "    response = client.embeddings.create(\n",
        "        input=text,                  # Embeddingしたいテキスト\n",
        "        model=DEPLOYMENT_ID_FOR_EMBEDDING  # 使用するEmbeddingモデル（デプロイ名）\n",
        "    )\n",
        "    embedding_vector = response.data[0].embedding\n",
        "\n",
        "    total_info.append( [text_path ,embedding_vector])\n",
        "\n",
        "embedding_vector_df = pd.DataFrame(total_info,columns=[\"file_path\",\"embedding\"])\n"
      ]
    },
    {
      "cell_type": "code",
      "execution_count": 25,
      "id": "2436da6a",
      "metadata": {},
      "outputs": [],
      "source": [
        "embedding_vector_df.to_csv(csv_folder_path+\"vector.csv\")"
      ]
    }
  ],
  "metadata": {
    "kernelspec": {
      "display_name": "Python 3",
      "language": "python",
      "name": "python3"
    },
    "language_info": {
      "codemirror_mode": {
        "name": "ipython",
        "version": 3
      },
      "file_extension": ".py",
      "mimetype": "text/x-python",
      "name": "python",
      "nbconvert_exporter": "python",
      "pygments_lexer": "ipython3",
      "version": "3.12.8"
    }
  },
  "nbformat": 4,
  "nbformat_minor": 5
}
